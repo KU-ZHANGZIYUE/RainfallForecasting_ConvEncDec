{
  "nbformat": 4,
  "nbformat_minor": 0,
  "metadata": {
    "accelerator": "GPU",
    "colab": {
      "name": "prediction.ipynb",
      "provenance": [],
      "include_colab_link": true
    },
    "kernelspec": {
      "display_name": "Python 3",
      "name": "python3"
    },
    "language_info": {
      "name": "python"
    }
  },
  "cells": [
    {
      "cell_type": "markdown",
      "metadata": {
        "id": "view-in-github",
        "colab_type": "text"
      },
      "source": [
        "<a href=\"https://colab.research.google.com/github/KU-ZHANGZIYUE/RainfallForecasting_ConvEncDec/blob/main/prediction.ipynb\" target=\"_parent\"><img src=\"https://colab.research.google.com/assets/colab-badge.svg\" alt=\"Open In Colab\"/></a>"
      ]
    },
    {
      "cell_type": "code",
      "metadata": {
        "id": "PTkg53tAgdWc"
      },
      "source": [
        "#Prediction\n",
        "#Author: ZHANG Ziyue (Kyoto University)\n",
        "#Date: 2011/11/4\n",
        "\n",
        "from google.colab import drive\n",
        "drive.mount('/content/drive/')\n",
        "%cd /content/drive/MyDrive/Research/30mins_5ch"
      ],
      "execution_count": null,
      "outputs": []
    },
    {
      "cell_type": "code",
      "metadata": {
        "id": "g3cIcF98gs8r"
      },
      "source": [
        "import numpy as np\n",
        "import matplotlib.pyplot as plt\n",
        "from keras.models import load_model"
      ],
      "execution_count": 2,
      "outputs": []
    },
    {
      "cell_type": "code",
      "metadata": {
        "id": "kM1d9KI7g9yr"
      },
      "source": [
        "model = load_model('Unet_30mins_5ch_100ep_nodrop.h5')\n",
        "input_dataset = np.load('paddedinput_30mins_5ch.npy')\n",
        "output_dataset = np.load('paddedoutput_30mins_5ch.npy')"
      ],
      "execution_count": 49,
      "outputs": []
    },
    {
      "cell_type": "code",
      "metadata": {
        "id": "p2vYhfwEjily"
      },
      "source": [
        "#Predict\n",
        "def pred_to_pad(pred, from_shape_w=192, to_shape_w=180, from_shape_h=128, to_shape_h=120):\n",
        "    # pred shape 12,928,928\n",
        "    padding_w = int( (from_shape_w - to_shape_w) / 2)\n",
        "    padding_h = int( (from_shape_h - to_shape_h) / 2)\n",
        "    return pred[::, padding_w:padding_w+to_shape_w, padding_h:padding_h+to_shape_h].copy()\n",
        "\n",
        "prediction = pred_to_pad(model.predict(input_dataset))"
      ],
      "execution_count": 50,
      "outputs": []
    },
    {
      "cell_type": "code",
      "metadata": {
        "id": "SVOsUfvWocHC"
      },
      "source": [
        "#Show prediction on specific frame\n",
        "\n",
        "frame = 550\n",
        "\n",
        "\n",
        "plt.figure(figsize = (10,10))\n",
        "plt.imshow(prediction[frame,:,:,0], cmap = 'jet', vmax = 2)\n",
        "plt.colorbar()"
      ],
      "execution_count": null,
      "outputs": []
    },
    {
      "cell_type": "code",
      "metadata": {
        "id": "y_qbnyTbcebw"
      },
      "source": [
        "depad_output = pred_to_pad(output_dataset)\n",
        "\n",
        "plt.figure(figsize = (10,10))\n",
        "plt.imshow(depad_output[frame,:,:,0], cmap = 'jet', vmax = 2)\n",
        "plt.colorbar()"
      ],
      "execution_count": null,
      "outputs": []
    },
    {
      "cell_type": "code",
      "source": [
        "#Display input\n",
        "depad_input = pred_to_pad(input_dataset)\n",
        "rows = 2\n",
        "columns = 3\n",
        "\n",
        "# reading images\n",
        "Image1 = depad_input[frame,:,:,0]\n",
        "Image2 = depad_input[frame,:,:,1]\n",
        "Image3 = depad_input[frame,:,:,2]\n",
        "Image4 = depad_input[frame,:,:,3]\n",
        "Image5 = depad_input[frame,:,:,4]\n",
        "\n",
        "\n",
        "fig = plt.figure(figsize=(10, 10))\n",
        "# Adds a subplot at the 1st position\n",
        "fig.add_subplot(rows, columns, 1)\n",
        "plt.imshow(Image1, cmap = 'jet', vmax = 2, vmin = 0)\n",
        "plt.axis('off')\n",
        "plt.title(\"t-4\")\n",
        "  \n",
        "# Adds a subplot at the 2nd position\n",
        "fig.add_subplot(rows, columns, 2)\n",
        "plt.imshow(Image2, cmap = 'jet', vmax = 2, vmin = 0)\n",
        "plt.axis('off')\n",
        "plt.title(\"t-3\")\n",
        "  \n",
        "# Adds a subplot at the 3rd position\n",
        "fig.add_subplot(rows, columns, 3)\n",
        "plt.imshow(Image3, cmap = 'jet', vmax = 2, vmin = 0)\n",
        "plt.axis('off')\n",
        "plt.title(\"t-2\")\n",
        "  \n",
        "# Adds a subplot at the 4th position\n",
        "fig.add_subplot(rows, columns, 4)\n",
        "plt.imshow(Image4, cmap = 'jet', vmax = 2, vmin = 0)\n",
        "plt.axis('off')\n",
        "plt.title(\"t-1\")\n",
        "\n",
        "# Adds a subplot at the 5th position\n",
        "fig.add_subplot(rows, columns, 5)\n",
        "plt.imshow(Image5, cmap = 'jet', vmax = 2, vmin = 0)\n",
        "plt.axis('off')\n",
        "plt.title(\"t\")\n"
      ],
      "metadata": {
        "id": "OYkKes7hezI3"
      },
      "execution_count": null,
      "outputs": []
    },
    {
      "cell_type": "code",
      "metadata": {
        "id": "eieRsBFLAdF_"
      },
      "source": [
        "#Calculating RMSE for 70 frames\n",
        "from sklearn.metrics import mean_squared_error\n",
        "error = 0\n",
        "\n",
        "for i in range(550):\n",
        "  if i < 480:\n",
        "    error = error\n",
        "  if i >= 480:\n",
        "    error = error + np.sqrt(mean_squared_error(prediction[i,:,:,0], depad_output[i,:,:,0]))\n",
        "print(error)\n"
      ],
      "execution_count": null,
      "outputs": []
    },
    {
      "cell_type": "code",
      "source": [
        "np.array_equal(input_dataset[500+4+6,:,:,0], output_dataset[500,:,:,0])\n",
        "print(np.shape(prediction))"
      ],
      "metadata": {
        "id": "YAc6ShBO523t"
      },
      "execution_count": null,
      "outputs": []
    }
  ]
}