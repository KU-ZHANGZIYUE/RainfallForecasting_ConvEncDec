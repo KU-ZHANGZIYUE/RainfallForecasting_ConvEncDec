{
  "nbformat": 4,
  "nbformat_minor": 0,
  "metadata": {
    "accelerator": "GPU",
    "colab": {
      "name": "prediction.ipynb",
      "provenance": [],
      "include_colab_link": true
    },
    "kernelspec": {
      "display_name": "Python 3",
      "name": "python3"
    },
    "language_info": {
      "name": "python"
    }
  },
  "cells": [
    {
      "cell_type": "markdown",
      "metadata": {
        "id": "view-in-github",
        "colab_type": "text"
      },
      "source": [
        "<a href=\"https://colab.research.google.com/github/KU-ZHANGZIYUE/RainfallForecasting_ConvEncDec/blob/main/prediction.ipynb\" target=\"_parent\"><img src=\"https://colab.research.google.com/assets/colab-badge.svg\" alt=\"Open In Colab\"/></a>"
      ]
    },
    {
      "cell_type": "code",
      "metadata": {
        "colab": {
          "base_uri": "https://localhost:8080/"
        },
        "id": "PTkg53tAgdWc",
        "outputId": "d4b71a28-d598-4c9b-b1c8-0b7c33680d19"
      },
      "source": [
        "#Prediction\n",
        "#Author: ZHANG Ziyue (Kyoto University)\n",
        "#Date: 2011/11/4\n",
        "\n",
        "from google.colab import drive\n",
        "drive.mount('/content/drive/')\n",
        "%cd /content/drive/MyDrive/Research/30mins_5ch"
      ],
      "execution_count": 22,
      "outputs": [
        {
          "output_type": "stream",
          "name": "stdout",
          "text": [
            "Drive already mounted at /content/drive/; to attempt to forcibly remount, call drive.mount(\"/content/drive/\", force_remount=True).\n",
            "/content/drive/MyDrive/Research/30mins_4ch\n"
          ]
        }
      ]
    },
    {
      "cell_type": "code",
      "metadata": {
        "id": "g3cIcF98gs8r"
      },
      "source": [
        "import numpy as np\n",
        "import matplotlib.pyplot as plt\n",
        "from keras.models import load_model"
      ],
      "execution_count": 23,
      "outputs": []
    },
    {
      "cell_type": "code",
      "metadata": {
        "id": "kM1d9KI7g9yr"
      },
      "source": [
        "model = load_model('dlink_30mins_5ch_100ep.h5')\n",
        "input_dataset = np.load('paddedinput_30mins_5ch.npy')\n",
        "output_dataset = np.load('paddedoutput_30mins_5ch.npy')"
      ],
      "execution_count": 24,
      "outputs": []
    },
    {
      "cell_type": "code",
      "metadata": {
        "id": "p2vYhfwEjily"
      },
      "source": [
        "#Predict\n",
        "prediction = model.predict(input_dataset)"
      ],
      "execution_count": 25,
      "outputs": []
    },
    {
      "cell_type": "code",
      "metadata": {
        "id": "SVOsUfvWocHC"
      },
      "source": [
        "#Show prediction on specific frame\n",
        "\n",
        "frame = 500\n",
        "\n",
        "\n",
        "plt.figure(figsize = (10,10))\n",
        "plt.imshow(prediction[frame,:,:,0], cmap = 'jet', vmax = 2)\n",
        "plt.colorbar()"
      ],
      "execution_count": null,
      "outputs": []
    },
    {
      "cell_type": "code",
      "metadata": {
        "id": "y_qbnyTbcebw"
      },
      "source": [
        "plt.figure(figsize = (10,10))\n",
        "plt.imshow(input_dataset[frame+4+6,:,:,0], cmap = 'jet', vmax = 2)\n",
        "plt.colorbar()"
      ],
      "execution_count": null,
      "outputs": []
    },
    {
      "cell_type": "code",
      "source": [
        "#Display input\n",
        "\n",
        "rows = 2\n",
        "columns = 3\n",
        "\n",
        "# reading images\n",
        "Image1 = input_dataset[frame,:,:,0]\n",
        "Image2 = input_dataset[frame,:,:,1]\n",
        "Image3 = input_dataset[frame,:,:,2]\n",
        "Image4 = input_dataset[frame,:,:,3]\n",
        "Image5 = input_dataset[frame,:,:,4]\n",
        "\n",
        "\n",
        "fig = plt.figure(figsize=(10, 10))\n",
        "# Adds a subplot at the 1st position\n",
        "fig.add_subplot(rows, columns, 1)\n",
        "plt.imshow(Image1, cmap = 'jet', vmax = 2, vmin = 0)\n",
        "plt.axis('off')\n",
        "plt.title(\"t-4\")\n",
        "  \n",
        "# Adds a subplot at the 2nd position\n",
        "fig.add_subplot(rows, columns, 2)\n",
        "plt.imshow(Image2, cmap = 'jet', vmax = 2, vmin = 0)\n",
        "plt.axis('off')\n",
        "plt.title(\"t-3\")\n",
        "  \n",
        "# Adds a subplot at the 3rd position\n",
        "fig.add_subplot(rows, columns, 3)\n",
        "plt.imshow(Image3, cmap = 'jet', vmax = 2, vmin = 0)\n",
        "plt.axis('off')\n",
        "plt.title(\"t-2\")\n",
        "  \n",
        "# Adds a subplot at the 4th position\n",
        "fig.add_subplot(rows, columns, 4)\n",
        "plt.imshow(Image4, cmap = 'jet', vmax = 2, vmin = 0)\n",
        "plt.axis('off')\n",
        "plt.title(\"t-1\")\n",
        "\n",
        "# Adds a subplot at the 5th position\n",
        "fig.add_subplot(rows, columns, 5)\n",
        "plt.imshow(Image5, cmap = 'jet', vmax = 2, vmin = 0)\n",
        "plt.axis('off')\n",
        "plt.title(\"t\")\n"
      ],
      "metadata": {
        "id": "OYkKes7hezI3"
      },
      "execution_count": null,
      "outputs": []
    },
    {
      "cell_type": "code",
      "metadata": {
        "id": "eieRsBFLAdF_"
      },
      "source": [
        "from sklearn.metrics import mean_squared_error\n",
        "error = 0\n",
        "\n",
        "for i in range(571):\n",
        "  if i < 457:\n",
        "    error = error\n",
        "  if i >= 457:\n",
        "    error = error + np.sqrt(mean_squared_error(prediction[i,:,:,0], input_dataset[i,:,:,0]))\n",
        "print(error)"
      ],
      "execution_count": null,
      "outputs": []
    }
  ]
}