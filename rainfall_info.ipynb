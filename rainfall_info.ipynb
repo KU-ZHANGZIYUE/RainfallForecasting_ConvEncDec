{
  "nbformat": 4,
  "nbformat_minor": 0,
  "metadata": {
    "colab": {
      "name": "rainfall_info.ipynb",
      "provenance": [],
      "collapsed_sections": [],
      "include_colab_link": true
    },
    "kernelspec": {
      "name": "python3",
      "display_name": "Python 3"
    },
    "language_info": {
      "name": "python"
    }
  },
  "cells": [
    {
      "cell_type": "markdown",
      "metadata": {
        "id": "view-in-github",
        "colab_type": "text"
      },
      "source": [
        "<a href=\"https://colab.research.google.com/github/ZHANGZ1YUE/RainfallForecasting_ConvEncDec/blob/main/rainfall_info.ipynb\" target=\"_parent\"><img src=\"https://colab.research.google.com/assets/colab-badge.svg\" alt=\"Open In Colab\"/></a>"
      ]
    },
    {
      "cell_type": "code",
      "metadata": {
        "colab": {
          "base_uri": "https://localhost:8080/"
        },
        "id": "NACwWOo_GgNU",
        "outputId": "058ec144-6e0b-49a6-83bb-3c651c9786d6"
      },
      "source": [
        "#Rainfall Intensity based on Radar Data \n",
        "#Author: ZHANG Ziyue (Kyoto University)\n",
        "#Date: 2011/12/6\n",
        "\n",
        "from google.colab import drive\n",
        "drive.mount('/content/drive/')\n",
        "%cd /content/drive/MyDrive/Research/30mins_4ch"
      ],
      "execution_count": null,
      "outputs": [
        {
          "output_type": "stream",
          "name": "stdout",
          "text": [
            "Mounted at /content/drive/\n",
            "/content/drive/MyDrive/Research/30mins_4ch\n"
          ]
        }
      ]
    },
    {
      "cell_type": "code",
      "metadata": {
        "id": "ksYYQmEdLLZN"
      },
      "source": [
        "import numpy as np\n",
        "import matplotlib.pyplot as plt"
      ],
      "execution_count": null,
      "outputs": []
    },
    {
      "cell_type": "code",
      "metadata": {
        "id": "NWo9WQG1LRR9"
      },
      "source": [
        "data = np.load('./input_30min_4ch.npy')\n",
        "data = data[:,:,:,0]"
      ],
      "execution_count": null,
      "outputs": []
    },
    {
      "cell_type": "code",
      "metadata": {
        "id": "02il7cZePMXD"
      },
      "source": [
        "intensity = np.zeros((len(data)), dtype = \"float32\")\n",
        "for i in range(len(data)):\n",
        "  single_frame = 0\n",
        "  for j in range(180):\n",
        "    for k in range(120):                      #WHY DONT I JUST USE SUM  np.sum(data[0,:,:])\n",
        "      single_frame = single_frame + data[i,j,k]\n",
        "  intensity[i] = single_frame/180/120   #spatial average\n",
        "\n",
        "#print(intensity)"
      ],
      "execution_count": null,
      "outputs": []
    },
    {
      "cell_type": "code",
      "metadata": {
        "colab": {
          "base_uri": "https://localhost:8080/",
          "height": 284
        },
        "id": "Zk4c3KCeb-uw",
        "outputId": "7b337ee4-3614-4e5d-8a48-260608d2279d"
      },
      "source": [
        "plt.plot(intensity)"
      ],
      "execution_count": null,
      "outputs": [
        {
          "output_type": "execute_result",
          "data": {
            "text/plain": [
              "[<matplotlib.lines.Line2D at 0x7ff59433a210>]"
            ]
          },
          "metadata": {},
          "execution_count": 5
        },
        {
          "output_type": "display_data",
          "data": {
            "image/png": "[encoded data removed]",
            "text/plain": [
              "<Figure size 432x288 with 1 Axes>"
            ]
          },
          "metadata": {
            "needs_background": "light"
          }
        }
      ]
    },
    {
      "cell_type": "code",
      "metadata": {
        "id": "W1v1Insw5_VL"
      },
      "source": [
        "array_2d = data[5,:,:]\n",
        "array_1d = array_2d.flatten()\n",
        "\n",
        "#array = array_1d[(array_1d < 15)]   # if i can remove the outliers\n",
        "array = array_1d\n",
        "\n",
        "plt.hist(array, bins = 20)"
      ],
      "execution_count": null,
      "outputs": []
    },
    {
      "cell_type": "code",
      "metadata": {
        "id": "Rn90jCH0sGaO"
      },
      "source": [
        "#why glorot initializer does train, but he initializer does not?\n",
        "np.random.seed(1)\n",
        "w_he=np.random.randn(21600) * np.sqrt(2/21600)\n",
        "w_glorot=np.random.randn(21600) * np.sqrt(2/(21600+21600))"
      ],
      "execution_count": null,
      "outputs": []
    },
    {
      "cell_type": "code",
      "metadata": {
        "id": "oiA9oNGlz8n_"
      },
      "source": [
        "plt.hist(w_glorot)"
      ],
      "execution_count": null,
      "outputs": []
    },
    {
      "cell_type": "code",
      "metadata": {
        "id": "5fwm_36s1E1c"
      },
      "source": [
        "he = np.multiply(array, w_he)\n",
        "glorot = np.multiply(array, w_glorot)\n",
        "\n",
        "he1 = np.multiply(he, w_he)\n",
        "glorot1 = np.multiply(glorot, w_glorot)\n",
        "plt.hist(he, bins = 30)\n",
        "plt.hist(glorot, bins = 30)"
      ],
      "execution_count": null,
      "outputs": []
    },
    {
      "cell_type": "code",
      "source": [
        "w_he_=np.random.randn(9) * np.sqrt(2/9)\n",
        "w_glorot_=np.random.randn(9) * np.sqrt(2/(9+9))"
      ],
      "metadata": {
        "id": "7pemhIzis5Xy"
      },
      "execution_count": null,
      "outputs": []
    },
    {
      "cell_type": "code",
      "source": [
        "plt.figure()\n",
        "plt.hist(w_he_) #no work\n",
        "plt.figure()\n",
        "plt.hist(w_glorot_)"
      ],
      "metadata": {
        "colab": {
          "base_uri": "https://localhost:8080/",
          "height": 605
        },
        "id": "KOjLyl7WtmEd",
        "outputId": "da08edc1-cb5f-48d5-da88-e923b0cf2f4d"
      },
      "execution_count": null,
      "outputs": [
        {
          "output_type": "execute_result",
          "data": {
            "text/plain": [
              "(array([2., 0., 4., 1., 0., 0., 0., 1., 0., 1.]),\n",
              " array([-0.12222265, -0.03084411,  0.06053444,  0.15191298,  0.24329152,\n",
              "         0.33467006,  0.42604861,  0.51742715,  0.60880569,  0.70018423,\n",
              "         0.79156278]),\n",
              " <a list of 10 Patch objects>)"
            ]
          },
          "metadata": {},
          "execution_count": 50
        },
        {
          "output_type": "display_data",
          "data": {
            "image/png": "[encoded data removed]",
            "text/plain": [
              "<Figure size 432x288 with 1 Axes>"
            ]
          },
          "metadata": {
            "needs_background": "light"
          }
        },
        {
          "output_type": "display_data",
          "data": {
            "image/png": "[encoded data removed]",
            "text/plain": [
              "<Figure size 432x288 with 1 Axes>"
            ]
          },
          "metadata": {
            "needs_background": "light"
          }
        }
      ]
    }
  ]
}