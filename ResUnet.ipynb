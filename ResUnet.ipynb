{
  "nbformat": 4,
  "nbformat_minor": 0,
  "metadata": {
    "colab": {
      "name": "ResUnet.ipynb",
      "provenance": [],
      "collapsed_sections": [],
      "machine_shape": "hm",
      "include_colab_link": true
    },
    "kernelspec": {
      "display_name": "Python 3",
      "name": "python3"
    },
    "language_info": {
      "name": "python"
    },
    "accelerator": "GPU"
  },
  "cells": [
    {
      "cell_type": "markdown",
      "metadata": {
        "id": "view-in-github",
        "colab_type": "text"
      },
      "source": [
        "<a href=\"https://colab.research.google.com/github/ZHANGZ1YUE/Rainfall_Nowcasting/blob/main/ResUnet.ipynb\" target=\"_parent\"><img src=\"https://colab.research.google.com/assets/colab-badge.svg\" alt=\"Open In Colab\"/></a>"
      ]
    },
    {
      "cell_type": "code",
      "metadata": {
        "colab": {
          "base_uri": "https://localhost:8080/"
        },
        "id": "X7MLHZh-S2yl",
        "outputId": "e9855ee1-1e9e-4f02-f813-7326b2a120fa"
      },
      "source": [
        "#Convolutional Encoder Decoder Model\n",
        "#Author: ZHANG Ziyue (Kyoto University)\n",
        "#Date: 2011/11/3\n",
        "\n",
        "from google.colab import drive\n",
        "drive.mount('/content/drive/')\n",
        "%cd /content/drive/MyDrive/Research/Simulation_Result/30mins_4ch"
      ],
      "execution_count": null,
      "outputs": [
        {
          "output_type": "stream",
          "name": "stdout",
          "text": [
            "Mounted at /content/drive/\n",
            "/content/drive/MyDrive/Research/Simulation_Result/30mins_4ch\n"
          ]
        }
      ]
    },
    {
      "cell_type": "code",
      "metadata": {
        "id": "gYSt656P3NDc"
      },
      "source": [
        "import numpy as np\n",
        "import os\n",
        "from keras.models import *\n",
        "from keras.layers import *\n",
        "import matplotlib.pyplot as plt\n",
        "from tensorflow.keras import optimizers\n"
      ],
      "execution_count": null,
      "outputs": []
    },
    {
      "cell_type": "code",
      "metadata": {
        "id": "y2Aht03z5EJM"
      },
      "source": [
        "def res_block(inputs, filter_num, filter_size): \n",
        "    x = Activation(activation='relu')(inputs)\n",
        "    x = Conv2D(filter_num, filter_size, padding = 'same', kernel_initializer = 'glorot_normal')(x)\n",
        "    x = Activation(activation='relu')(x)\n",
        "    x = Conv2D(filter_num, filter_size, padding = 'same', kernel_initializer = 'glorot_normal')(x)\n",
        "\n",
        "    shortcut = Conv2D(filter_num, (1, 1), padding='same', kernel_initializer = 'glorot_normal')(inputs)\n",
        "    shortcut = BatchNormalization()(shortcut)\n",
        "\n",
        "    residual = Add()([x, shortcut])\n",
        "    return residual\n",
        "\n",
        "def net():\n",
        "    \n",
        "    inputs = Input((192, 128, 4))\n",
        "\n",
        "\n",
        "    conv1 = res_block(inputs, 64, 3)\n",
        "    \n",
        "\n",
        "    pool1 = MaxPooling2D(pool_size=(2, 2))(conv1)\n",
        "    conv2 = res_block(pool1, 128, 3)\n",
        "    \n",
        "\n",
        "    pool2 = MaxPooling2D(pool_size=(2, 2))(conv2)\n",
        "    conv3 = res_block(pool2, 256, 3)\n",
        "    \n",
        "    pool3 = MaxPooling2D(pool_size=(2, 2))(conv3)\n",
        "    conv4 = res_block(pool3, 512, 3)\n",
        "    \n",
        "\n",
        "    pool4 = MaxPooling2D(pool_size=(2, 2))(conv4)\n",
        "\n",
        "    conv5 = res_block(pool4, 1024, 3)\n",
        "\n",
        "    up6 = UpSampling2D(size = (2,2))(conv5)\n",
        "    merge6 = concatenate([conv4,up6], axis = 3)\n",
        "    conv6 = res_block(merge6, 512, 3)\n",
        "\n",
        "    up7 = UpSampling2D(size = (2,2))(conv6)\n",
        "    merge7 = concatenate([conv3,up7], axis = 3)\n",
        "    conv7 = res_block(merge7, 256, 3)\n",
        "\n",
        "    up8 = UpSampling2D(size = (2,2))(conv7)\n",
        "    merge8 = concatenate([conv2,up8], axis = 3)\n",
        "    conv8 = res_block(merge8, 128, 3)\n",
        "\n",
        "    up9 = UpSampling2D(size = (2,2))(conv8)\n",
        "    merge9 = concatenate([conv1,up9], axis = 3)\n",
        "    conv9 = res_block(merge9, 64, 3)\n",
        "    \n",
        "    outputs = Conv2D(1, 1, activation='linear')(conv9)\n",
        "    \n",
        "    model = Model(inputs=inputs, outputs=outputs)\n",
        "\n",
        "    return model\n",
        "\n",
        "#然后validation改成20%，这个意思就是这最后20不会被用来traintrain\n",
        "#然后挑选\"validation\"也就是最后20%的data中的几个sample，plot出来input，prediction和ground truth"
      ],
      "execution_count": null,
      "outputs": []
    },
    {
      "cell_type": "code",
      "metadata": {
        "id": "6vcRoXka4NK1",
        "colab": {
          "base_uri": "https://localhost:8080/"
        },
        "outputId": "56bb3002-f998-410b-cce9-a0c9a761dc4b"
      },
      "source": [
        "input = np.load('./paddedinput_30mins_4ch.npy')\n",
        "output = np.load('./paddedoutput_30mins_4ch.npy')\n",
        "\n",
        "\n",
        "model = net()\n",
        "model.compile(optimizer=tf.keras.optimizers.Adam(learning_rate=1e-4),loss='log_cosh', metrics=['accuracy'])\n",
        "result = model.fit(input, output, epochs=100, validation_split=0.2)\n",
        "model.save('Unet_30mins_4ch_100ep_nodrop_res.h5')"
      ],
      "execution_count": null,
      "outputs": [
        {
          "output_type": "stream",
          "name": "stdout",
          "text": [
            "Epoch 1/100\n",
            "15/15 [==============================] - 92s 4s/step - loss: 1.6070 - accuracy: 0.3425 - val_loss: 2.5704 - val_accuracy: 0.5198\n",
            "Epoch 2/100\n",
            "15/15 [==============================] - 29s 2s/step - loss: 1.2396 - accuracy: 0.4334 - val_loss: 1.3003 - val_accuracy: 0.5273\n",
            "Epoch 3/100\n",
            "15/15 [==============================] - 29s 2s/step - loss: 1.1646 - accuracy: 0.4371 - val_loss: 0.8526 - val_accuracy: 0.5802\n",
            "Epoch 4/100\n",
            "15/15 [==============================] - 29s 2s/step - loss: 1.1302 - accuracy: 0.4436 - val_loss: 0.8555 - val_accuracy: 0.5601\n",
            "Epoch 5/100\n",
            "15/15 [==============================] - 29s 2s/step - loss: 1.0892 - accuracy: 0.4465 - val_loss: 0.6400 - val_accuracy: 0.5664\n",
            "Epoch 6/100\n",
            "15/15 [==============================] - 29s 2s/step - loss: 1.0690 - accuracy: 0.4494 - val_loss: 0.6333 - val_accuracy: 0.5740\n",
            "Epoch 7/100\n",
            "15/15 [==============================] - 29s 2s/step - loss: 1.0294 - accuracy: 0.4549 - val_loss: 0.5844 - val_accuracy: 0.5772\n",
            "Epoch 8/100\n",
            "15/15 [==============================] - 29s 2s/step - loss: 1.0118 - accuracy: 0.4587 - val_loss: 0.5813 - val_accuracy: 0.5747\n",
            "Epoch 9/100\n",
            "15/15 [==============================] - 29s 2s/step - loss: 0.9974 - accuracy: 0.4545 - val_loss: 0.5506 - val_accuracy: 0.5705\n",
            "Epoch 10/100\n",
            "15/15 [==============================] - 29s 2s/step - loss: 0.9556 - accuracy: 0.4562 - val_loss: 0.6389 - val_accuracy: 0.5459\n",
            "Epoch 11/100\n",
            "15/15 [==============================] - 29s 2s/step - loss: 0.9640 - accuracy: 0.4580 - val_loss: 0.5646 - val_accuracy: 0.5831\n",
            "Epoch 12/100\n",
            "15/15 [==============================] - 29s 2s/step - loss: 0.9299 - accuracy: 0.4593 - val_loss: 0.5337 - val_accuracy: 0.5683\n",
            "Epoch 13/100\n",
            "15/15 [==============================] - 29s 2s/step - loss: 0.9059 - accuracy: 0.4643 - val_loss: 0.5404 - val_accuracy: 0.5711\n",
            "Epoch 14/100\n",
            "15/15 [==============================] - 29s 2s/step - loss: 0.9010 - accuracy: 0.4640 - val_loss: 0.5471 - val_accuracy: 0.5664\n",
            "Epoch 15/100\n",
            "15/15 [==============================] - 29s 2s/step - loss: 0.8793 - accuracy: 0.4583 - val_loss: 0.5462 - val_accuracy: 0.5654\n",
            "Epoch 16/100\n",
            "15/15 [==============================] - 29s 2s/step - loss: 0.8406 - accuracy: 0.4683 - val_loss: 0.5603 - val_accuracy: 0.5611\n",
            "Epoch 17/100\n",
            "15/15 [==============================] - 29s 2s/step - loss: 0.8283 - accuracy: 0.4659 - val_loss: 0.5174 - val_accuracy: 0.5822\n",
            "Epoch 18/100\n",
            "15/15 [==============================] - 29s 2s/step - loss: 0.8037 - accuracy: 0.4699 - val_loss: 0.5930 - val_accuracy: 0.5545\n",
            "Epoch 19/100\n",
            "15/15 [==============================] - 29s 2s/step - loss: 0.7959 - accuracy: 0.4697 - val_loss: 0.5254 - val_accuracy: 0.5719\n",
            "Epoch 20/100\n",
            "15/15 [==============================] - 29s 2s/step - loss: 0.7599 - accuracy: 0.4710 - val_loss: 0.5301 - val_accuracy: 0.5572\n",
            "Epoch 21/100\n",
            "15/15 [==============================] - 29s 2s/step - loss: 0.7475 - accuracy: 0.4758 - val_loss: 0.5269 - val_accuracy: 0.5656\n",
            "Epoch 22/100\n",
            "15/15 [==============================] - 29s 2s/step - loss: 0.7336 - accuracy: 0.4744 - val_loss: 0.5471 - val_accuracy: 0.5477\n",
            "Epoch 23/100\n",
            "15/15 [==============================] - 29s 2s/step - loss: 0.7040 - accuracy: 0.4790 - val_loss: 0.5937 - val_accuracy: 0.5457\n",
            "Epoch 24/100\n",
            "15/15 [==============================] - 29s 2s/step - loss: 0.6925 - accuracy: 0.4775 - val_loss: 0.5237 - val_accuracy: 0.5706\n",
            "Epoch 25/100\n",
            "15/15 [==============================] - 29s 2s/step - loss: 0.6989 - accuracy: 0.4765 - val_loss: 0.6061 - val_accuracy: 0.5243\n",
            "Epoch 26/100\n",
            "15/15 [==============================] - 29s 2s/step - loss: 0.6995 - accuracy: 0.4744 - val_loss: 0.5500 - val_accuracy: 0.5695\n",
            "Epoch 27/100\n",
            "15/15 [==============================] - 29s 2s/step - loss: 0.6658 - accuracy: 0.4804 - val_loss: 0.5312 - val_accuracy: 0.5687\n",
            "Epoch 28/100\n",
            "15/15 [==============================] - 29s 2s/step - loss: 0.6434 - accuracy: 0.4812 - val_loss: 0.5293 - val_accuracy: 0.5716\n",
            "Epoch 29/100\n",
            "15/15 [==============================] - 29s 2s/step - loss: 0.6332 - accuracy: 0.4822 - val_loss: 0.5749 - val_accuracy: 0.5477\n",
            "Epoch 30/100\n",
            "15/15 [==============================] - 29s 2s/step - loss: 0.6262 - accuracy: 0.4825 - val_loss: 0.5767 - val_accuracy: 0.5740\n",
            "Epoch 31/100\n",
            "15/15 [==============================] - 29s 2s/step - loss: 0.6293 - accuracy: 0.4804 - val_loss: 0.5311 - val_accuracy: 0.5809\n",
            "Epoch 32/100\n",
            "15/15 [==============================] - 29s 2s/step - loss: 0.6083 - accuracy: 0.4845 - val_loss: 0.5407 - val_accuracy: 0.5576\n",
            "Epoch 33/100\n",
            "15/15 [==============================] - 29s 2s/step - loss: 0.5937 - accuracy: 0.4830 - val_loss: 0.5444 - val_accuracy: 0.5731\n",
            "Epoch 34/100\n",
            "15/15 [==============================] - 29s 2s/step - loss: 0.5987 - accuracy: 0.4838 - val_loss: 0.5439 - val_accuracy: 0.5529\n",
            "Epoch 35/100\n",
            "15/15 [==============================] - 29s 2s/step - loss: 0.5774 - accuracy: 0.4855 - val_loss: 0.5423 - val_accuracy: 0.5685\n",
            "Epoch 36/100\n",
            "15/15 [==============================] - 29s 2s/step - loss: 0.5598 - accuracy: 0.4869 - val_loss: 0.5385 - val_accuracy: 0.5707\n",
            "Epoch 37/100\n",
            "15/15 [==============================] - 29s 2s/step - loss: 0.5486 - accuracy: 0.4878 - val_loss: 0.5482 - val_accuracy: 0.5609\n",
            "Epoch 38/100\n",
            "15/15 [==============================] - 29s 2s/step - loss: 0.5533 - accuracy: 0.4867 - val_loss: 0.5424 - val_accuracy: 0.5639\n",
            "Epoch 39/100\n",
            "15/15 [==============================] - 29s 2s/step - loss: 0.5445 - accuracy: 0.4892 - val_loss: 0.5417 - val_accuracy: 0.5682\n",
            "Epoch 40/100\n",
            "15/15 [==============================] - 29s 2s/step - loss: 0.5302 - accuracy: 0.4865 - val_loss: 0.5284 - val_accuracy: 0.5749\n",
            "Epoch 41/100\n",
            "15/15 [==============================] - 29s 2s/step - loss: 0.5250 - accuracy: 0.4891 - val_loss: 0.5470 - val_accuracy: 0.5714\n",
            "Epoch 42/100\n",
            "15/15 [==============================] - 29s 2s/step - loss: 0.5155 - accuracy: 0.4884 - val_loss: 0.5564 - val_accuracy: 0.5570\n",
            "Epoch 43/100\n",
            "15/15 [==============================] - 29s 2s/step - loss: 0.5102 - accuracy: 0.4891 - val_loss: 0.5426 - val_accuracy: 0.5758\n",
            "Epoch 44/100\n",
            "15/15 [==============================] - 29s 2s/step - loss: 0.4966 - accuracy: 0.4907 - val_loss: 0.5372 - val_accuracy: 0.5687\n",
            "Epoch 45/100\n",
            "15/15 [==============================] - 29s 2s/step - loss: 0.4855 - accuracy: 0.4913 - val_loss: 0.5539 - val_accuracy: 0.5540\n",
            "Epoch 46/100\n",
            "15/15 [==============================] - 29s 2s/step - loss: 0.4805 - accuracy: 0.4906 - val_loss: 0.5311 - val_accuracy: 0.5702\n",
            "Epoch 47/100\n",
            "15/15 [==============================] - 29s 2s/step - loss: 0.4701 - accuracy: 0.4918 - val_loss: 0.5531 - val_accuracy: 0.5415\n",
            "Epoch 48/100\n",
            "15/15 [==============================] - 29s 2s/step - loss: 0.4704 - accuracy: 0.4912 - val_loss: 0.5495 - val_accuracy: 0.5594\n",
            "Epoch 49/100\n",
            "15/15 [==============================] - 29s 2s/step - loss: 0.4619 - accuracy: 0.4925 - val_loss: 0.5929 - val_accuracy: 0.5394\n",
            "Epoch 50/100\n",
            "15/15 [==============================] - 29s 2s/step - loss: 0.4705 - accuracy: 0.4894 - val_loss: 0.5224 - val_accuracy: 0.5715\n",
            "Epoch 51/100\n",
            "15/15 [==============================] - 29s 2s/step - loss: 0.4697 - accuracy: 0.4886 - val_loss: 0.5275 - val_accuracy: 0.5769\n",
            "Epoch 52/100\n",
            "15/15 [==============================] - 29s 2s/step - loss: 0.4527 - accuracy: 0.4924 - val_loss: 0.5389 - val_accuracy: 0.5664\n",
            "Epoch 53/100\n",
            "15/15 [==============================] - 29s 2s/step - loss: 0.4403 - accuracy: 0.4928 - val_loss: 0.5340 - val_accuracy: 0.5722\n",
            "Epoch 54/100\n",
            "15/15 [==============================] - 29s 2s/step - loss: 0.4337 - accuracy: 0.4938 - val_loss: 0.5508 - val_accuracy: 0.5512\n",
            "Epoch 55/100\n",
            "15/15 [==============================] - 29s 2s/step - loss: 0.4390 - accuracy: 0.4925 - val_loss: 0.5557 - val_accuracy: 0.5564\n",
            "Epoch 56/100\n",
            "15/15 [==============================] - 29s 2s/step - loss: 0.4266 - accuracy: 0.4942 - val_loss: 0.5495 - val_accuracy: 0.5570\n",
            "Epoch 57/100\n",
            "15/15 [==============================] - 29s 2s/step - loss: 0.4181 - accuracy: 0.4939 - val_loss: 0.5330 - val_accuracy: 0.5639\n",
            "Epoch 58/100\n",
            "15/15 [==============================] - 29s 2s/step - loss: 0.4218 - accuracy: 0.4934 - val_loss: 0.5366 - val_accuracy: 0.5575\n",
            "Epoch 59/100\n",
            "15/15 [==============================] - 29s 2s/step - loss: 0.4217 - accuracy: 0.4940 - val_loss: 0.5518 - val_accuracy: 0.5477\n",
            "Epoch 60/100\n",
            "15/15 [==============================] - 29s 2s/step - loss: 0.4111 - accuracy: 0.4937 - val_loss: 0.5378 - val_accuracy: 0.5650\n",
            "Epoch 61/100\n",
            "15/15 [==============================] - 29s 2s/step - loss: 0.4078 - accuracy: 0.4938 - val_loss: 0.5458 - val_accuracy: 0.5619\n",
            "Epoch 62/100\n",
            "15/15 [==============================] - 29s 2s/step - loss: 0.4066 - accuracy: 0.4947 - val_loss: 0.5421 - val_accuracy: 0.5773\n",
            "Epoch 63/100\n",
            "15/15 [==============================] - 29s 2s/step - loss: 0.3933 - accuracy: 0.4951 - val_loss: 0.5420 - val_accuracy: 0.5657\n",
            "Epoch 64/100\n",
            "15/15 [==============================] - 29s 2s/step - loss: 0.3806 - accuracy: 0.4961 - val_loss: 0.5402 - val_accuracy: 0.5621\n",
            "Epoch 65/100\n",
            "15/15 [==============================] - 29s 2s/step - loss: 0.3729 - accuracy: 0.4956 - val_loss: 0.5371 - val_accuracy: 0.5635\n",
            "Epoch 66/100\n",
            "15/15 [==============================] - 29s 2s/step - loss: 0.3699 - accuracy: 0.4955 - val_loss: 0.5388 - val_accuracy: 0.5749\n",
            "Epoch 67/100\n",
            "15/15 [==============================] - 29s 2s/step - loss: 0.3609 - accuracy: 0.4966 - val_loss: 0.5344 - val_accuracy: 0.5722\n",
            "Epoch 68/100\n",
            "15/15 [==============================] - 29s 2s/step - loss: 0.3617 - accuracy: 0.4964 - val_loss: 0.5451 - val_accuracy: 0.5622\n",
            "Epoch 69/100\n",
            "15/15 [==============================] - 29s 2s/step - loss: 0.3615 - accuracy: 0.4964 - val_loss: 0.5677 - val_accuracy: 0.5505\n",
            "Epoch 70/100\n",
            "15/15 [==============================] - 29s 2s/step - loss: 0.3792 - accuracy: 0.4959 - val_loss: 0.5866 - val_accuracy: 0.5480\n",
            "Epoch 71/100\n",
            "12/15 [=======================>......] - ETA: 5s - loss: 0.3757 - accuracy: 0.4937"
          ]
        }
      ]
    },
    {
      "cell_type": "code",
      "metadata": {
        "id": "0wbozXt5tJ9z",
        "colab": {
          "base_uri": "https://localhost:8080/",
          "height": 295
        },
        "outputId": "1748ffee-e743-4926-d772-b538f61b743a"
      },
      "source": [
        "plt.plot(result.history['loss'])\n",
        "plt.plot(result.history['val_loss'])\n",
        "plt.title('Model loss')\n",
        "plt.ylabel('Loss')\n",
        "plt.xlabel('Epoch')\n",
        "plt.legend(['Train', 'Validation'], loc='upper right')\n",
        "#plt.ylim(-0.1, 0.2)\n",
        "plt.show()"
      ],
      "execution_count": null,
      "outputs": [
        {
          "output_type": "display_data",
          "data": {
            "image/png": "[encoded data removed]",
            "text/plain": [
              "<Figure size 432x288 with 1 Axes>"
            ]
          },
          "metadata": {
            "needs_background": "light"
          }
        }
      ]
    },
    {
      "cell_type": "code",
      "metadata": {
        "id": "Ii15odrEbuOT",
        "colab": {
          "base_uri": "https://localhost:8080/",
          "height": 295
        },
        "outputId": "78bbbc4e-2758-4b77-fc01-c6016f523642"
      },
      "source": [
        "plt.plot(result.history['accuracy'])\n",
        "plt.plot(result.history['val_accuracy'])\n",
        "plt.title('model accuracy')\n",
        "plt.ylabel('accuracy')\n",
        "plt.xlabel('epoch')\n",
        "plt.legend(['Train', 'Validation'], loc='upper right')\n",
        "plt.show()"
      ],
      "execution_count": null,
      "outputs": [
        {
          "output_type": "display_data",
          "data": {
            "image/png": "[encoded data removed]",
            "text/plain": [
              "<Figure size 432x288 with 1 Axes>"
            ]
          },
          "metadata": {
            "needs_background": "light"
          }
        }
      ]
    }
  ]
}