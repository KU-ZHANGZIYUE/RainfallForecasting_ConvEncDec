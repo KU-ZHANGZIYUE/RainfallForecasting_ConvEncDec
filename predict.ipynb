{
  "nbformat": 4,
  "nbformat_minor": 0,
  "metadata": {
    "accelerator": "GPU",
    "colab": {
      "name": "predict.ipynb",
      "provenance": [],
      "collapsed_sections": [],
      "include_colab_link": true
    },
    "kernelspec": {
      "display_name": "Python 3",
      "name": "python3"
    },
    "language_info": {
      "name": "python"
    }
  },
  "cells": [
    {
      "cell_type": "markdown",
      "metadata": {
        "id": "view-in-github",
        "colab_type": "text"
      },
      "source": [
        "<a href=\"https://colab.research.google.com/github/ZHANGZ1YUE/RainfallForecasting_ConvEncDec/blob/main/predict.ipynb\" target=\"_parent\"><img src=\"https://colab.research.google.com/assets/colab-badge.svg\" alt=\"Open In Colab\"/></a>"
      ]
    },
    {
      "cell_type": "code",
      "metadata": {
        "colab": {
          "base_uri": "https://localhost:8080/"
        },
        "id": "PTkg53tAgdWc",
        "outputId": "13050f07-6747-4404-8974-2cedbafd70f5"
      },
      "source": [
        "#Prediction\n",
        "#Author: ZHANG Ziyue (Kyoto University)\n",
        "#Date: 2011/11/4\n",
        "\n",
        "from google.colab import drive\n",
        "drive.mount('/content/drive/')\n",
        "%cd /content/drive/MyDrive/Research/Simulation_Result/30mins_4ch\n"
      ],
      "execution_count": null,
      "outputs": [
        {
          "output_type": "stream",
          "name": "stdout",
          "text": [
            "Mounted at /content/drive/\n",
            "/content/drive/MyDrive/Research/Simulation_Result/30mins_4ch\n"
          ]
        }
      ]
    },
    {
      "cell_type": "code",
      "metadata": {
        "id": "g3cIcF98gs8r"
      },
      "source": [
        "import numpy as np\n",
        "import matplotlib.pyplot as plt\n",
        "from keras.models import load_model"
      ],
      "execution_count": null,
      "outputs": []
    },
    {
      "cell_type": "code",
      "metadata": {
        "id": "kM1d9KI7g9yr"
      },
      "source": [
        "model = load_model('Unet_30mins_4ch_100ep_nodrop.h5')\n",
        "input_dataset = np.load('paddedinput_30mins_4ch.npy')\n",
        "output_dataset = np.load('paddedoutput_30mins_4ch.npy')\n",
        "\n",
        "#It can predict 2 extra models, to compare the prediction accuracy of 3 models\n",
        "model1 = load_model('Unet_30mins_4ch_100ep_nodrop_morefilter.h5')\n",
        "model2 = load_model('Unet_30mins_4ch_100ep_nodrop_MSE.h5')"
      ],
      "execution_count": null,
      "outputs": []
    },
    {
      "cell_type": "code",
      "metadata": {
        "id": "p2vYhfwEjily"
      },
      "source": [
        "#This function change the padded prediction back to unpad (180*120)\n",
        "def pred_to_pad(pred, from_shape_w=192, to_shape_w=180, from_shape_h=128, to_shape_h=120):\n",
        "    # pred shape 12,928,928\n",
        "    padding_w = int( (from_shape_w - to_shape_w) / 2)\n",
        "    padding_h = int( (from_shape_h - to_shape_h) / 2)\n",
        "    return pred[::, padding_w:padding_w+to_shape_w, padding_h:padding_h+to_shape_h].copy()\n",
        "\n",
        "#Predict\n",
        "prediction = pred_to_pad(model.predict(input_dataset))\n",
        "\n",
        "prediction1 = pred_to_pad(model1.predict(input_dataset))\n",
        "prediction2 = pred_to_pad(model2.predict(input_dataset))"
      ],
      "execution_count": null,
      "outputs": []
    },
    {
      "cell_type": "code",
      "source": [
        "frame = 528  #Define which specific frame you want to visualize\n",
        "depad_output = pred_to_pad(output_dataset)\n",
        "\n",
        "Image1 = depad_output[frame,:,:,0]\n",
        "Image2 = prediction[frame,:,:,0]\n",
        "Image3 = prediction1[frame,:,:,0]\n",
        "Image4 = prediction2[frame,:,:,0]\n",
        "\n",
        "fig = plt.figure(figsize=(16,6))\n",
        "\n",
        "fig.add_subplot(141)\n",
        "plt.imshow(Image1, cmap = 'jet', vmax = 5, vmin = 0)\n",
        "plt.axis('off')\n",
        "plt.title(\"Ground Truth\", fontsize = 30, color = 'red')\n",
        "#plt.colorbar()\n",
        "\n",
        "\n",
        "fig.add_subplot(142)\n",
        "plt.imshow(Image2, cmap = 'jet', vmax = 5, vmin = 0)\n",
        "plt.axis('off')\n",
        "plt.title(\"(Reference)\", fontsize = 30, color = 'blue')\n",
        "\n",
        "fig.add_subplot(143)\n",
        "plt.imshow(Image3, cmap = 'jet', vmax = 5, vmin = 0)\n",
        "plt.axis('off')\n",
        "plt.title(\"More Filters\", fontsize = 30, color = 'Green')\n",
        "\n",
        "fig.add_subplot(144)\n",
        "plt.imshow(Image4, cmap = 'jet', vmax = 5, vmin = 0)\n",
        "plt.axis('off')\n",
        "plt.title(\"MSE\", fontsize = 30)\n",
        "\n",
        "\n",
        "fig.tight_layout()\n"
      ],
      "metadata": {
        "id": "EgMKF7Y3uZot"
      },
      "execution_count": null,
      "outputs": []
    },
    {
      "cell_type": "code",
      "source": [
        "#Display input\n",
        "depad_input = pred_to_pad(input_dataset)\n",
        "\n",
        "# reading images\n",
        "Image1 = depad_input[frame,:,:,0]\n",
        "Image2 = depad_input[frame,:,:,1]\n",
        "Image3 = depad_input[frame,:,:,2]\n",
        "Image4 = depad_input[frame,:,:,3]\n",
        "\n",
        "\n",
        "fig = plt.figure(figsize=(4,6))\n",
        "# Adds a subplot at the 1st position\n",
        "fig.add_subplot(221)\n",
        "plt.imshow(Image1, cmap = 'jet', vmax = 5, vmin = 0)\n",
        "plt.axis('off')\n",
        "plt.title(\"t-3\")\n",
        "  \n",
        "# Adds a subplot at the 2nd position\n",
        "fig.add_subplot(222)\n",
        "plt.imshow(Image2, cmap = 'jet', vmax = 5, vmin = 0)\n",
        "plt.axis('off')\n",
        "plt.title(\"t-2\")\n",
        "  \n",
        "# Adds a subplot at the 3rd position\n",
        "fig.add_subplot(223)\n",
        "plt.imshow(Image3, cmap = 'jet', vmax = 5, vmin = 0)\n",
        "plt.axis('off')\n",
        "plt.title(\"t-1\")\n",
        "  \n",
        "# Adds a subplot at the 4th position\n",
        "fig.add_subplot(224)\n",
        "plt.imshow(Image4, cmap = 'jet', vmax = 5, vmin = 0)\n",
        "plt.axis('off')\n",
        "plt.title(\"t\")\n",
        "\n",
        "\n",
        "fig.tight_layout()"
      ],
      "metadata": {
        "id": "bOMXkAb0dz2D"
      },
      "execution_count": null,
      "outputs": []
    },
    {
      "cell_type": "code",
      "metadata": {
        "id": "eieRsBFLAdF_"
      },
      "source": [
        "#Calculating Mean Squared Error for 70 frames\n",
        "\n",
        "from sklearn.metrics import mean_squared_error\n",
        "error = 0\n",
        "\n",
        "for i in range(557):\n",
        "  if i < 487:\n",
        "    error = error\n",
        "  if i >= 487:\n",
        "    error = error + mean_squared_error(prediction[i,:,:,0], depad_output[i,:,:,0])  #Here it gives the MSE for prediction, meaning its the reference model\n",
        "\n",
        "print(error)\n",
        "\n"
      ],
      "execution_count": null,
      "outputs": []
    },
    {
      "cell_type": "code",
      "source": [
        "#Visualize the intensity\n",
        "def rain_intensity(data):\n",
        "  intensity = np.zeros(557)\n",
        "  for i in range(557):\n",
        "    single_frame = 0\n",
        "    if i < 487:\n",
        "      single_frame = single_frame\n",
        "    if i >= 487:\n",
        "      for j in range(180):\n",
        "        for k in range(120):                      #WHY DONT I JUST USE SUM????????????????????????  np.sum(data[0,:,:])\n",
        "          single_frame = single_frame + data[i,j,k]\n",
        "      intensity[i] = single_frame/180/120   #spatial average\n",
        "  return intensity\n",
        "\n",
        "plt.figure(figsize=(12,8))\n",
        "plt.plot(rain_intensity(depad_output), label='ground truth')\n",
        "plt.plot(rain_intensity(prediction), label='Basic')\n",
        "plt.plot(rain_intensity(prediction1), label='MoreFilters')\n",
        "plt.plot(rain_intensity(prediction2), label='MSE')\n",
        "plt.legend()\n",
        "plt.title(\"Spatial Averaged Rainfall Intensity\", fontsize = 30, color = 'blue')\n",
        "plt.xlim(487, 557)"
      ],
      "metadata": {
        "id": "FXb6G4IntLqL"
      },
      "execution_count": null,
      "outputs": []
    }
  ]
}