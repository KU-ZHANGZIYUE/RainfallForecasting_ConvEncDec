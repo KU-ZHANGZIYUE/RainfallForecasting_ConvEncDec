{
  "nbformat": 4,
  "nbformat_minor": 0,
  "metadata": {
    "colab": {
      "name": "connect_events.ipynb",
      "provenance": [],
      "collapsed_sections": [],
      "include_colab_link": true
    },
    "kernelspec": {
      "name": "python3",
      "display_name": "Python 3"
    },
    "language_info": {
      "name": "python"
    }
  },
  "cells": [
    {
      "cell_type": "markdown",
      "metadata": {
        "id": "view-in-github",
        "colab_type": "text"
      },
      "source": [
        "<a href=\"https://colab.research.google.com/github/ZHANGZ1YUE/RainfallForecasting_ConvEncDec/blob/main/connect_events.ipynb\" target=\"_parent\"><img src=\"https://colab.research.google.com/assets/colab-badge.svg\" alt=\"Open In Colab\"/></a>"
      ]
    },
    {
      "cell_type": "code",
      "metadata": {
        "colab": {
          "base_uri": "https://localhost:8080/"
        },
        "id": "5n3oDqFNRxU4",
        "outputId": "1bd2d2f4-90c6-4b32-bec2-a59662d3fcad"
      },
      "source": [
        "from google.colab import drive\n",
        "drive.mount('/content/drive/')"
      ],
      "execution_count": null,
      "outputs": [
        {
          "output_type": "stream",
          "name": "stdout",
          "text": [
            "Mounted at /content/drive/\n"
          ]
        }
      ]
    },
    {
      "cell_type": "code",
      "metadata": {
        "id": "hXizUBjuR0P_",
        "colab": {
          "base_uri": "https://localhost:8080/"
        },
        "outputId": "e9120dae-bdf3-4c38-8ed0-5bd5514e5285"
      },
      "source": [
        "%cd /content/drive/MyDrive/Research/30mins_4ch"
      ],
      "execution_count": null,
      "outputs": [
        {
          "output_type": "stream",
          "name": "stdout",
          "text": [
            "/content/drive/MyDrive/Research/30mins_4ch/data\n"
          ]
        }
      ]
    },
    {
      "cell_type": "code",
      "metadata": {
        "id": "vIQNox-OQvpk",
        "colab": {
          "base_uri": "https://localhost:8080/"
        },
        "outputId": "dbaf295d-c1e9-45bf-9d1b-c20f884fc37a"
      },
      "source": [
        "import pandas as pd\n",
        "import numpy as np\n",
        "import os\n",
        "import glob\n",
        "\n",
        "save_dir = '/content/drive/MyDrive/Research/30mins_4ch'\n",
        "\n",
        "\n",
        "A = np.load('20180704output.npy')\n",
        "B = np.load('20180831output.npy')\n",
        "C = np.load('20180901output.npy')\n",
        "D = np.load('20180907output.npy')\n",
        "E = np.load('20180908output.npy')\n",
        "F = np.load('20180910output.npy')\n",
        "G = np.load('20180922output.npy')\n",
        "\n",
        "\n",
        "\n",
        "\n",
        "ABC = np.concatenate([A,B,C])\n",
        "ABCDE = np.concatenate([ABC,D,E])\n",
        "ABCDEFG = np.concatenate([ABCDE,F,G])\n",
        "#ABCDEFGHI = np.concatenate([ABCDEFG,H,I])\n",
        "\n",
        "print(np.shape(ABCDEFG))\n",
        "\n",
        "np.save(save_dir + '/output_30mins_4ch.npy', ABCDEFG)\n",
        "\n"
      ],
      "execution_count": null,
      "outputs": [
        {
          "output_type": "stream",
          "name": "stdout",
          "text": [
            "(571, 180, 120, 1)\n"
          ]
        }
      ]
    },
    {
      "cell_type": "code",
      "metadata": {
        "id": "UqOpkFErWOHJ"
      },
      "source": [
        "import matplotlib.pyplot as plt\n",
        "plt.imshow(ABCDEFGHI[660,:,:,0], cmap = 'jet', vmax = 2.5, vmin = 0)"
      ],
      "execution_count": null,
      "outputs": []
    }
  ]
}