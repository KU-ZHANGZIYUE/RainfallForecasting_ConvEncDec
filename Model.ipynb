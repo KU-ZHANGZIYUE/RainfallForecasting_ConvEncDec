{
  "nbformat": 4,
  "nbformat_minor": 0,
  "metadata": {
    "colab": {
      "name": "Model.ipynb",
      "provenance": [],
      "authorship_tag": "ABX9TyOxtbgDWxUYelGTcHH+6RRy",
      "include_colab_link": true
    },
    "kernelspec": {
      "display_name": "Python 3",
      "name": "python3"
    },
    "language_info": {
      "name": "python"
    },
    "accelerator": "GPU"
  },
  "cells": [
    {
      "cell_type": "markdown",
      "metadata": {
        "id": "view-in-github",
        "colab_type": "text"
      },
      "source": [
        "<a href=\"https://colab.research.google.com/github/KU-ZHANGZIYUE/RainfallForecasting_ConvEncDec/blob/main/Model.ipynb\" target=\"_parent\"><img src=\"https://colab.research.google.com/assets/colab-badge.svg\" alt=\"Open In Colab\"/></a>"
      ]
    },
    {
      "cell_type": "code",
      "metadata": {
        "colab": {
          "base_uri": "https://localhost:8080/"
        },
        "id": "X7MLHZh-S2yl",
        "outputId": "9435922b-20b6-410f-ce45-156446955009"
      },
      "source": [
        "#Convolutional Encoder Decoder Model\n",
        "#Author: ZHANG Ziyue (Kyoto University)\n",
        "#Date: 2011/11/3\n",
        "\n",
        "from google.colab import drive\n",
        "drive.mount('/content/drive/')\n",
        "%cd /content/drive/MyDrive/Research/Prepared_Data"
      ],
      "execution_count": null,
      "outputs": [
        {
          "output_type": "stream",
          "name": "stdout",
          "text": [
            "Mounted at /content/drive/\n",
            "/content/drive/MyDrive/Research/Prepared_Data\n"
          ]
        }
      ]
    },
    {
      "cell_type": "code",
      "metadata": {
        "id": "gYSt656P3NDc"
      },
      "source": [
        "import numpy as np\n",
        "import os\n",
        "from keras.models import Model,Sequential\n",
        "from keras.layers import Input, Convolution2D, MaxPooling2D, UpSampling2D, Activation,ZeroPadding2D\n",
        "from keras.layers import BatchNormalization\n",
        "import matplotlib.pyplot as plt\n",
        "from tensorflow.keras import optimizers\n"
      ],
      "execution_count": null,
      "outputs": []
    },
    {
      "cell_type": "code",
      "metadata": {
        "id": "y2Aht03z5EJM",
        "colab": {
          "base_uri": "https://localhost:8080/"
        },
        "outputId": "08053248-43c8-4126-bf34-040b4b8cc052"
      },
      "source": [
        "def model():\n",
        "    \n",
        "    seq = Sequential()\n",
        "\n",
        "    #Encoder\n",
        "    seq.add(Convolution2D(filters=64,kernel_size=(3,3),input_shape = (180, 120, 3), padding = 'same'))\n",
        "    seq.add(BatchNormalization())\n",
        "    seq.add(Activation('relu'))\n",
        "    seq.add(MaxPooling2D(pool_size=(2,2)))\n",
        "\n",
        "    seq.add(Convolution2D(filters=128,kernel_size=(3,3),padding = 'same'))\n",
        "    seq.add(BatchNormalization())\n",
        "    seq.add(Activation('relu'))\n",
        "    seq.add(MaxPooling2D(pool_size=(2,2)))\n",
        "\n",
        "    seq.add(Convolution2D(filters=256,kernel_size=(3,3), padding = 'same'))\n",
        "    seq.add(BatchNormalization())\n",
        "    seq.add(Activation('relu'))\n",
        "    seq.add(MaxPooling2D(pool_size=(2,2)))\n",
        "    \n",
        "    seq.add(Convolution2D(filters=512,kernel_size=(3,3), padding = 'same'))\n",
        "    seq.add(BatchNormalization())\n",
        "    seq.add(Activation('relu'))\n",
        "\n",
        "    #Decoder\n",
        "    seq.add(Convolution2D(filters=512,kernel_size=(3,3), padding = 'same'))\n",
        "    seq.add(BatchNormalization())\n",
        "    seq.add(Activation('relu'))\n",
        "    seq.add(UpSampling2D((2,2)))\n",
        "\n",
        "    seq.add(Convolution2D(filters=256,kernel_size=(3,3), padding = 'same'))\n",
        "    seq.add(BatchNormalization())\n",
        "    seq.add(Activation('relu'))\n",
        "    seq.add(UpSampling2D((2,2)))\n",
        "\n",
        "    seq.add(ZeroPadding2D(padding=(1,0))) \n",
        "    seq.add(Convolution2D(filters=128,kernel_size=(3,3), padding = 'same'))\n",
        "    seq.add(BatchNormalization())\n",
        "    seq.add(Activation('relu'))\n",
        "    seq.add(UpSampling2D((2,2)))\n",
        "\n",
        "    seq.add(Convolution2D(filters=64,kernel_size=(3,3), padding = 'same'))\n",
        "    seq.add(BatchNormalization())\n",
        "    seq.add(Activation('relu'))\n",
        "    seq.add(Convolution2D(filters=1,kernel_size=(3, 3), padding = 'same'))\n",
        "\n",
        "\n",
        "    opt = optimizers.Adam(lr= 0.001)\n",
        "    seq.compile(loss='mean_squared_error', optimizer=opt, metrics=['accuracy'])\n",
        "\n",
        "    # Train the network\n",
        "    input = np.load('./input.npy')\n",
        "    output = np.load('./output.npy')\n",
        "    input = input/10   ###\n",
        "    output = output/10  ###\n",
        "    result = seq.fit(input, output, batch_size=8, epochs=50, validation_split=0.2) #val may be 20%\n",
        "    seq.save('result.h5')\n",
        "\n",
        "    return result\n",
        "    \n",
        "if __name__ == '__main__':\n",
        "    result = model()\n",
        "\n",
        "#然后validation改成20%，这个意思就是这最后20不会被用来traintrain\n",
        "#然后挑选\"validation\"也就是最后20%的data中的几个sample，plot出来input，prediction和ground truth"
      ],
      "execution_count": null,
      "outputs": [
        {
          "output_type": "stream",
          "name": "stderr",
          "text": [
            "/usr/local/lib/python3.7/dist-packages/keras/optimizer_v2/optimizer_v2.py:356: UserWarning: The `lr` argument is deprecated, use `learning_rate` instead.\n",
            "  \"The `lr` argument is deprecated, use `learning_rate` instead.\")\n"
          ]
        },
        {
          "output_type": "stream",
          "name": "stdout",
          "text": [
            "Model: \"sequential_1\"\n",
            "_________________________________________________________________\n",
            "Layer (type)                 Output Shape              Param #   \n",
            "=================================================================\n",
            "conv2d_9 (Conv2D)            (None, 180, 120, 64)      1792      \n",
            "_________________________________________________________________\n",
            "batch_normalization_8 (Batch (None, 180, 120, 64)      256       \n",
            "_________________________________________________________________\n",
            "activation_8 (Activation)    (None, 180, 120, 64)      0         \n",
            "_________________________________________________________________\n",
            "max_pooling2d_3 (MaxPooling2 (None, 90, 60, 64)        0         \n",
            "_________________________________________________________________\n",
            "conv2d_10 (Conv2D)           (None, 90, 60, 128)       73856     \n",
            "_________________________________________________________________\n",
            "batch_normalization_9 (Batch (None, 90, 60, 128)       512       \n",
            "_________________________________________________________________\n",
            "activation_9 (Activation)    (None, 90, 60, 128)       0         \n",
            "_________________________________________________________________\n",
            "max_pooling2d_4 (MaxPooling2 (None, 45, 30, 128)       0         \n",
            "_________________________________________________________________\n",
            "conv2d_11 (Conv2D)           (None, 45, 30, 256)       295168    \n",
            "_________________________________________________________________\n",
            "batch_normalization_10 (Batc (None, 45, 30, 256)       1024      \n",
            "_________________________________________________________________\n",
            "activation_10 (Activation)   (None, 45, 30, 256)       0         \n",
            "_________________________________________________________________\n",
            "max_pooling2d_5 (MaxPooling2 (None, 22, 15, 256)       0         \n",
            "_________________________________________________________________\n",
            "conv2d_12 (Conv2D)           (None, 22, 15, 512)       1180160   \n",
            "_________________________________________________________________\n",
            "batch_normalization_11 (Batc (None, 22, 15, 512)       2048      \n",
            "_________________________________________________________________\n",
            "activation_11 (Activation)   (None, 22, 15, 512)       0         \n",
            "_________________________________________________________________\n",
            "conv2d_13 (Conv2D)           (None, 22, 15, 512)       2359808   \n",
            "_________________________________________________________________\n",
            "batch_normalization_12 (Batc (None, 22, 15, 512)       2048      \n",
            "_________________________________________________________________\n",
            "activation_12 (Activation)   (None, 22, 15, 512)       0         \n",
            "_________________________________________________________________\n",
            "up_sampling2d_3 (UpSampling2 (None, 44, 30, 512)       0         \n",
            "_________________________________________________________________\n",
            "conv2d_14 (Conv2D)           (None, 44, 30, 256)       1179904   \n",
            "_________________________________________________________________\n",
            "batch_normalization_13 (Batc (None, 44, 30, 256)       1024      \n",
            "_________________________________________________________________\n",
            "activation_13 (Activation)   (None, 44, 30, 256)       0         \n",
            "_________________________________________________________________\n",
            "up_sampling2d_4 (UpSampling2 (None, 88, 60, 256)       0         \n",
            "_________________________________________________________________\n",
            "zero_padding2d_1 (ZeroPaddin (None, 90, 60, 256)       0         \n",
            "_________________________________________________________________\n",
            "conv2d_15 (Conv2D)           (None, 90, 60, 128)       295040    \n",
            "_________________________________________________________________\n",
            "batch_normalization_14 (Batc (None, 90, 60, 128)       512       \n",
            "_________________________________________________________________\n",
            "activation_14 (Activation)   (None, 90, 60, 128)       0         \n",
            "_________________________________________________________________\n",
            "up_sampling2d_5 (UpSampling2 (None, 180, 120, 128)     0         \n",
            "_________________________________________________________________\n",
            "conv2d_16 (Conv2D)           (None, 180, 120, 64)      73792     \n",
            "_________________________________________________________________\n",
            "batch_normalization_15 (Batc (None, 180, 120, 64)      256       \n",
            "_________________________________________________________________\n",
            "activation_15 (Activation)   (None, 180, 120, 64)      0         \n",
            "_________________________________________________________________\n",
            "conv2d_17 (Conv2D)           (None, 180, 120, 1)       577       \n",
            "=================================================================\n",
            "Total params: 5,467,777\n",
            "Trainable params: 5,463,937\n",
            "Non-trainable params: 3,840\n",
            "_________________________________________________________________\n",
            "None\n"
          ]
        }
      ]
    },
    {
      "cell_type": "code",
      "metadata": {
        "id": "0wbozXt5tJ9z",
        "colab": {
          "base_uri": "https://localhost:8080/",
          "height": 295
        },
        "outputId": "f2304ede-c3b4-4ec8-fbcd-6995a148abc1"
      },
      "source": [
        "plt.plot(result.history['loss'])\n",
        "plt.plot(result.history['val_loss'])\n",
        "plt.title('Model loss')\n",
        "plt.ylabel('Loss')\n",
        "plt.xlabel('Epoch')\n",
        "plt.legend(['Train', 'Validation'], loc='upper right')\n",
        "#plt.ylim(-0.2, 0.4)\n",
        "plt.show()"
      ],
      "execution_count": null,
      "outputs": [
        {
          "output_type": "display_data",
          "data": {
            "image/png": "[encoded data removed]",
            "text/plain": [
              "<Figure size 432x288 with 1 Axes>"
            ]
          },
          "metadata": {
            "needs_background": "light"
          }
        }
      ]
    },
    {
      "cell_type": "code",
      "metadata": {
        "colab": {
          "base_uri": "https://localhost:8080/",
          "height": 295
        },
        "id": "Ii15odrEbuOT",
        "outputId": "2d6ffbc6-4097-469d-caf2-67f19e1384cf"
      },
      "source": [
        "plt.plot(result.history['accuracy'])\n",
        "plt.plot(result.history['val_accuracy'])\n",
        "plt.title('model accuracy')\n",
        "plt.ylabel('accuracy')\n",
        "plt.xlabel('epoch')\n",
        "plt.legend(['Train', 'Validation'], loc='upper right')\n",
        "plt.show()"
      ],
      "execution_count": null,
      "outputs": [
        {
          "output_type": "display_data",
          "data": {
            "image/png": "[encoded data removed]",
            "text/plain": [
              "<Figure size 432x288 with 1 Axes>"
            ]
          },
          "metadata": {
            "needs_background": "light"
          }
        }
      ]
    }
  ]
}