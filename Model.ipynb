{
  "nbformat": 4,
  "nbformat_minor": 0,
  "metadata": {
    "colab": {
      "name": "Model.ipynb",
      "provenance": [],
      "collapsed_sections": [],
      "authorship_tag": "ABX9TyNkd78JlLiIpuWZnSLzqAo6",
      "include_colab_link": true
    },
    "kernelspec": {
      "display_name": "Python 3",
      "name": "python3"
    },
    "language_info": {
      "name": "python"
    },
    "accelerator": "GPU"
  },
  "cells": [
    {
      "cell_type": "markdown",
      "metadata": {
        "id": "view-in-github",
        "colab_type": "text"
      },
      "source": [
        "<a href=\"https://colab.research.google.com/github/KU-ZHANGZIYUE/RainfallForecasting_ConvEncDec/blob/main/Model.ipynb\" target=\"_parent\"><img src=\"https://colab.research.google.com/assets/colab-badge.svg\" alt=\"Open In Colab\"/></a>"
      ]
    },
    {
      "cell_type": "code",
      "metadata": {
        "colab": {
          "base_uri": "https://localhost:8080/"
        },
        "id": "X7MLHZh-S2yl",
        "outputId": "090eb7f3-fff3-4512-f09f-4655c394dcb7"
      },
      "source": [
        "#Convolutional Encoder Decoder Model\n",
        "#Author: ZHANG Ziyue (Kyoto University)\n",
        "#Date: 2011/11/3\n",
        "\n",
        "from google.colab import drive\n",
        "drive.mount('/content/drive/')\n",
        "%cd /content/drive/MyDrive/Research/5mins_4ch"
      ],
      "execution_count": 4,
      "outputs": [
        {
          "output_type": "stream",
          "name": "stdout",
          "text": [
            "Drive already mounted at /content/drive/; to attempt to forcibly remount, call drive.mount(\"/content/drive/\", force_remount=True).\n",
            "/content/drive/MyDrive/Research/5mins_4ch\n"
          ]
        }
      ]
    },
    {
      "cell_type": "code",
      "metadata": {
        "id": "gYSt656P3NDc"
      },
      "source": [
        "import numpy as np\n",
        "import os\n",
        "from keras.models import *\n",
        "from keras.layers import *\n",
        "import matplotlib.pyplot as plt\n",
        "from tensorflow.keras import optimizers\n"
      ],
      "execution_count": 5,
      "outputs": []
    },
    {
      "cell_type": "code",
      "metadata": {
        "id": "y2Aht03z5EJM"
      },
      "source": [
        "def test():\n",
        "    \n",
        "    inputs = Input((192, 128, 4))\n",
        "\n",
        "    conv1f = Conv2D(64, 3, padding='same')(inputs)\n",
        "    conv1f = BatchNormalization()(conv1f)\n",
        "    conv1f = Activation(\"relu\")(conv1f)\n",
        "    conv1f = Conv2D(64, 3, padding='same')(conv1f)\n",
        "    conv1f = BatchNormalization()(conv1f)\n",
        "    conv1f = Activation(\"relu\")(conv1f)\n",
        "    pool1 = MaxPooling2D(pool_size=(2, 2))(conv1f)\n",
        "\n",
        "    conv2f = Conv2D(128, 3, padding='same')(pool1)\n",
        "    conv2f = BatchNormalization()(conv2f)\n",
        "    conv2f = Activation(\"relu\")(conv2f)\n",
        "    conv2f = Conv2D(128, 3, padding='same')(conv2f)\n",
        "    conv2f = BatchNormalization()(conv2f)\n",
        "    conv2f = Activation(\"relu\")(conv2f)\n",
        "    pool2 = MaxPooling2D(pool_size=(2, 2))(conv2f)\n",
        "\n",
        "    conv3f = Conv2D(256, 3, padding='same')(pool2)\n",
        "    conv3f = BatchNormalization()(conv3f)\n",
        "    conv3f = Activation(\"relu\")(conv3f)\n",
        "    conv3f = Conv2D(256, 3, padding='same')(conv3f)\n",
        "    conv3f = BatchNormalization()(conv3f)\n",
        "    conv3f = Activation(\"relu\")(conv3f)\n",
        "    pool3 = MaxPooling2D(pool_size=(2, 2))(conv3f)\n",
        "\n",
        "    conv4f = Conv2D(256, 3, padding='same')(pool3)\n",
        "    conv4f = BatchNormalization()(conv4f)\n",
        "    conv4f = Activation(\"relu\")(conv4f)\n",
        "    conv4f = Conv2D(256, 3, padding='same')(conv4f)\n",
        "    conv4f = BatchNormalization()(conv4f)\n",
        "    conv4f = Activation(\"relu\")(conv4f)\n",
        "    up1 = UpSampling2D((2, 2))(conv4f)\n",
        "\n",
        "    conv5f = Conv2D(128, 3, padding='same')(up1)\n",
        "    conv5f = BatchNormalization()(conv5f)\n",
        "    conv5f = Activation(\"relu\")(conv5f)\n",
        "    conv5f = Conv2D(128, 3, padding='same')(conv5f)\n",
        "    conv5f = BatchNormalization()(conv5f)\n",
        "    conv5f = Activation(\"relu\")(conv5f)\n",
        "    up2 = UpSampling2D((2, 2))(conv5f)\n",
        "\n",
        "    conv6f = Conv2D(64, 3, padding='same')(up2)\n",
        "    conv6f = BatchNormalization()(conv6f)\n",
        "    conv6f = Activation(\"relu\")(conv6f)\n",
        "    conv6f = Conv2D(64, 3, padding='same')(conv6f)\n",
        "    conv6f = BatchNormalization()(conv6f)\n",
        "    conv6f = Activation(\"relu\")(conv6f)\n",
        "    up3 = UpSampling2D((2, 2))(conv6f)\n",
        "\n",
        "    outputs = Conv2D(1, 1, activation='linear')(up3)\n",
        "\n",
        "    model = Model(inputs=inputs, outputs=outputs)\n",
        "\n",
        "    return model\n",
        "print(test().summary())\n",
        "\n",
        "#然后validation改成20%，这个意思就是这最后20不会被用来traintrain\n",
        "#然后挑选\"validation\"也就是最后20%的data中的几个sample，plot出来input，prediction和ground truth"
      ],
      "execution_count": null,
      "outputs": []
    },
    {
      "cell_type": "code",
      "metadata": {
        "id": "6vcRoXka4NK1"
      },
      "source": [
        "input = np.load('./paddedinput_5mins_4ch.npy')\n",
        "output = np.load('./paddedoutput_5mins_4ch.npy')\n",
        "\n",
        "model = test()\n",
        "model.compile(optimizer=tf.keras.optimizers.Adam(learning_rate=0.001),loss='mean_squared_error', metrics=['accuracy'])\n",
        "result = model.fit(input, output, batch_size=8, epochs=30, validation_split=0.2) #val may be 20%\n",
        "model.save('result_initial_5min_4ch.h5')"
      ],
      "execution_count": null,
      "outputs": []
    },
    {
      "cell_type": "code",
      "metadata": {
        "id": "0wbozXt5tJ9z"
      },
      "source": [
        "plt.plot(result.history['loss'])\n",
        "plt.plot(result.history['val_loss'])\n",
        "plt.title('Model loss')\n",
        "plt.ylabel('Loss')\n",
        "plt.xlabel('Epoch')\n",
        "plt.legend(['Train', 'Validation'], loc='upper right')\n",
        "#plt.ylim(-0.1, 0.2)\n",
        "plt.show()"
      ],
      "execution_count": null,
      "outputs": []
    },
    {
      "cell_type": "code",
      "metadata": {
        "id": "Ii15odrEbuOT"
      },
      "source": [
        "plt.plot(result.history['accuracy'])\n",
        "plt.plot(result.history['val_accuracy'])\n",
        "plt.title('model accuracy')\n",
        "plt.ylabel('accuracy')\n",
        "plt.xlabel('epoch')\n",
        "plt.legend(['Train', 'Validation'], loc='upper right')\n",
        "plt.show()"
      ],
      "execution_count": null,
      "outputs": []
    }
  ]
}