{
  "nbformat": 4,
  "nbformat_minor": 0,
  "metadata": {
    "colab": {
      "name": "Model.ipynb",
      "provenance": [],
      "collapsed_sections": [],
      "authorship_tag": "ABX9TyMSIV00bLMp+n7ZFwf3D+oR",
      "include_colab_link": true
    },
    "kernelspec": {
      "display_name": "Python 3",
      "name": "python3"
    },
    "language_info": {
      "name": "python"
    },
    "accelerator": "GPU"
  },
  "cells": [
    {
      "cell_type": "markdown",
      "metadata": {
        "id": "view-in-github",
        "colab_type": "text"
      },
      "source": [
        "<a href=\"https://colab.research.google.com/github/KU-ZHANGZIYUE/RainfallForecasting_ConvEncDec/blob/rainnet_test/Model.ipynb\" target=\"_parent\"><img src=\"https://colab.research.google.com/assets/colab-badge.svg\" alt=\"Open In Colab\"/></a>"
      ]
    },
    {
      "cell_type": "code",
      "metadata": {
        "colab": {
          "base_uri": "https://localhost:8080/"
        },
        "id": "X7MLHZh-S2yl",
        "outputId": "92e2e686-915c-46f3-e4d7-15cd918f4879"
      },
      "source": [
        "#Convolutional Encoder Decoder Model\n",
        "#Author: ZHANG Ziyue (Kyoto University)\n",
        "#Date: 2011/11/3\n",
        "\n",
        "from google.colab import drive\n",
        "drive.mount('/content/drive/')\n",
        "%cd /content/drive/MyDrive/Research/Prepared_Data"
      ],
      "execution_count": 2,
      "outputs": [
        {
          "output_type": "stream",
          "name": "stdout",
          "text": [
            "Mounted at /content/drive/\n",
            "/content/drive/MyDrive/Research/Prepared_Data\n"
          ]
        }
      ]
    },
    {
      "cell_type": "code",
      "metadata": {
        "id": "gYSt656P3NDc"
      },
      "source": [
        "import numpy as np\n",
        "import os\n",
        "from keras.models import *\n",
        "from keras.layers import *\n",
        "import matplotlib.pyplot as plt\n",
        "from tensorflow.keras import optimizers\n"
      ],
      "execution_count": 3,
      "outputs": []
    },
    {
      "cell_type": "code",
      "metadata": {
        "id": "y2Aht03z5EJM",
        "colab": {
          "base_uri": "https://localhost:8080/"
        },
        "outputId": "1031ff31-bdee-497a-e4dd-8c4d3eba6cc0"
      },
      "source": [
        "def unet():\n",
        "    \n",
        "    inputs = Input((180, 120, 3))\n",
        "    resized_inputs = ZeroPadding2D(padding=(2,0))(inputs)\n",
        "\n",
        "    conv1f = Conv2D(64, 3, padding='same', kernel_initializer='he_normal')(resized_inputs)\n",
        "    conv1f = Activation(\"relu\")(conv1f)\n",
        "    conv1s = Conv2D(64, 3, padding='same', kernel_initializer='he_normal')(conv1f)\n",
        "    conv1s = Activation(\"relu\")(conv1s)\n",
        "    pool1 = MaxPooling2D(pool_size=(2, 2))(conv1s)\n",
        "\n",
        "    conv2f = Conv2D(128, 3, padding='same', kernel_initializer='he_normal')(pool1)\n",
        "    conv2f = Activation(\"relu\")(conv2f)\n",
        "    conv2s = Conv2D(128, 3, padding='same', kernel_initializer='he_normal')(conv2f)\n",
        "    conv2s = Activation(\"relu\")(conv2s)\n",
        "    pool2 = MaxPooling2D(pool_size=(2, 2))(conv2s)\n",
        "    \n",
        "    conv3f = Conv2D(256, 3, padding='same', kernel_initializer='he_normal')(pool2)\n",
        "    conv3f = Activation(\"relu\")(conv3f)\n",
        "    conv3s = Conv2D(256, 3, padding='same', kernel_initializer='he_normal')(conv3f)\n",
        "    conv3s = Activation(\"relu\")(conv3s)\n",
        "    drop3 = Dropout(0.5)(conv3s)\n",
        "    pool3 = MaxPooling2D(pool_size=(2, 2))(drop3)\n",
        "    \n",
        "    conv4f = Conv2D(512, 3, padding='same', kernel_initializer='he_normal')(pool3)\n",
        "    conv4f = Activation(\"relu\")(conv4f)\n",
        "    conv4s = Conv2D(512, 3, padding='same', kernel_initializer='he_normal')(conv4f)\n",
        "    conv4s = Activation(\"relu\")(conv4s)\n",
        "    drop4 = Dropout(0.5)(conv4s)\n",
        "\n",
        "    up7 = concatenate([UpSampling2D(size=(2, 2))(drop4), conv3s], axis=3)\n",
        "    conv7 = Conv2D(256, 3, padding='same', kernel_initializer='he_normal')(up7)\n",
        "    conv7 = Activation(\"relu\")(conv7)\n",
        "    conv7 = Conv2D(256, 3, padding='same', kernel_initializer='he_normal')(conv7)\n",
        "    conv7 = Activation(\"relu\")(conv7)\n",
        "\n",
        "    up8 = concatenate([UpSampling2D(size=(2, 2))(conv7), conv2s], axis=3)\n",
        "    conv8 = Conv2D(128, 3, padding='same', kernel_initializer='he_normal')(up8)\n",
        "    conv8 = Activation(\"relu\")(conv8)\n",
        "    conv8 = Conv2D(128, 3, padding='same', kernel_initializer='he_normal')(conv8)\n",
        "    conv8 = Activation(\"relu\")(conv8)\n",
        "\n",
        "    #conv8 = ZeroPadding2D(padding=(1,0))(conv8)\n",
        "\n",
        "    up9 = concatenate([UpSampling2D(size=(2, 2))(conv8), conv1s], axis=3)\n",
        "    conv9 = Conv2D(64, 3, padding='same', kernel_initializer='he_normal')(up9)\n",
        "    conv9 = Activation(\"relu\")(conv9)\n",
        "    conv9 = Conv2D(64, 3, padding='same', kernel_initializer='he_normal')(conv9)\n",
        "    conv9 = Activation(\"relu\")(conv9)\n",
        "    conv9 = Conv2D(2, 3, activation='relu', padding='same', kernel_initializer='he_normal')(conv9)\n",
        "\n",
        "    resize = Resizing(180, 120, interpolation=\"bilinear\")(conv9)  #Extra\n",
        "    \n",
        "    outputs = Conv2D(1, 1, activation='linear')(resize)\n",
        "\n",
        "    model = Model(inputs=inputs, outputs=outputs)\n",
        "\n",
        "    return model\n",
        "\n",
        "print(unet().summary())\n",
        "#然后validation改成20%，这个意思就是这最后20不会被用来traintrain\n",
        "#然后挑选\"validation\"也就是最后20%的data中的几个sample，plot出来input，prediction和ground truth"
      ],
      "execution_count": 4,
      "outputs": [
        {
          "output_type": "stream",
          "name": "stdout",
          "text": [
            "Model: \"model\"\n",
            "__________________________________________________________________________________________________\n",
            " Layer (type)                   Output Shape         Param #     Connected to                     \n",
            "==================================================================================================\n",
            " input_1 (InputLayer)           [(None, 180, 120, 3  0           []                               \n",
            "                                )]                                                                \n",
            "                                                                                                  \n",
            " zero_padding2d (ZeroPadding2D)  (None, 184, 120, 3)  0          ['input_1[0][0]']                \n",
            "                                                                                                  \n",
            " conv2d (Conv2D)                (None, 184, 120, 64  1792        ['zero_padding2d[0][0]']         \n",
            "                                )                                                                 \n",
            "                                                                                                  \n",
            " activation (Activation)        (None, 184, 120, 64  0           ['conv2d[0][0]']                 \n",
            "                                )                                                                 \n",
            "                                                                                                  \n",
            " conv2d_1 (Conv2D)              (None, 184, 120, 64  36928       ['activation[0][0]']             \n",
            "                                )                                                                 \n",
            "                                                                                                  \n",
            " activation_1 (Activation)      (None, 184, 120, 64  0           ['conv2d_1[0][0]']               \n",
            "                                )                                                                 \n",
            "                                                                                                  \n",
            " max_pooling2d (MaxPooling2D)   (None, 92, 60, 64)   0           ['activation_1[0][0]']           \n",
            "                                                                                                  \n",
            " conv2d_2 (Conv2D)              (None, 92, 60, 128)  73856       ['max_pooling2d[0][0]']          \n",
            "                                                                                                  \n",
            " activation_2 (Activation)      (None, 92, 60, 128)  0           ['conv2d_2[0][0]']               \n",
            "                                                                                                  \n",
            " conv2d_3 (Conv2D)              (None, 92, 60, 128)  147584      ['activation_2[0][0]']           \n",
            "                                                                                                  \n",
            " activation_3 (Activation)      (None, 92, 60, 128)  0           ['conv2d_3[0][0]']               \n",
            "                                                                                                  \n",
            " max_pooling2d_1 (MaxPooling2D)  (None, 46, 30, 128)  0          ['activation_3[0][0]']           \n",
            "                                                                                                  \n",
            " conv2d_4 (Conv2D)              (None, 46, 30, 256)  295168      ['max_pooling2d_1[0][0]']        \n",
            "                                                                                                  \n",
            " activation_4 (Activation)      (None, 46, 30, 256)  0           ['conv2d_4[0][0]']               \n",
            "                                                                                                  \n",
            " conv2d_5 (Conv2D)              (None, 46, 30, 256)  590080      ['activation_4[0][0]']           \n",
            "                                                                                                  \n",
            " activation_5 (Activation)      (None, 46, 30, 256)  0           ['conv2d_5[0][0]']               \n",
            "                                                                                                  \n",
            " dropout (Dropout)              (None, 46, 30, 256)  0           ['activation_5[0][0]']           \n",
            "                                                                                                  \n",
            " max_pooling2d_2 (MaxPooling2D)  (None, 23, 15, 256)  0          ['dropout[0][0]']                \n",
            "                                                                                                  \n",
            " conv2d_6 (Conv2D)              (None, 23, 15, 512)  1180160     ['max_pooling2d_2[0][0]']        \n",
            "                                                                                                  \n",
            " activation_6 (Activation)      (None, 23, 15, 512)  0           ['conv2d_6[0][0]']               \n",
            "                                                                                                  \n",
            " conv2d_7 (Conv2D)              (None, 23, 15, 512)  2359808     ['activation_6[0][0]']           \n",
            "                                                                                                  \n",
            " activation_7 (Activation)      (None, 23, 15, 512)  0           ['conv2d_7[0][0]']               \n",
            "                                                                                                  \n",
            " dropout_1 (Dropout)            (None, 23, 15, 512)  0           ['activation_7[0][0]']           \n",
            "                                                                                                  \n",
            " up_sampling2d (UpSampling2D)   (None, 46, 30, 512)  0           ['dropout_1[0][0]']              \n",
            "                                                                                                  \n",
            " concatenate (Concatenate)      (None, 46, 30, 768)  0           ['up_sampling2d[0][0]',          \n",
            "                                                                  'activation_5[0][0]']           \n",
            "                                                                                                  \n",
            " conv2d_8 (Conv2D)              (None, 46, 30, 256)  1769728     ['concatenate[0][0]']            \n",
            "                                                                                                  \n",
            " activation_8 (Activation)      (None, 46, 30, 256)  0           ['conv2d_8[0][0]']               \n",
            "                                                                                                  \n",
            " conv2d_9 (Conv2D)              (None, 46, 30, 256)  590080      ['activation_8[0][0]']           \n",
            "                                                                                                  \n",
            " activation_9 (Activation)      (None, 46, 30, 256)  0           ['conv2d_9[0][0]']               \n",
            "                                                                                                  \n",
            " up_sampling2d_1 (UpSampling2D)  (None, 92, 60, 256)  0          ['activation_9[0][0]']           \n",
            "                                                                                                  \n",
            " concatenate_1 (Concatenate)    (None, 92, 60, 384)  0           ['up_sampling2d_1[0][0]',        \n",
            "                                                                  'activation_3[0][0]']           \n",
            "                                                                                                  \n",
            " conv2d_10 (Conv2D)             (None, 92, 60, 128)  442496      ['concatenate_1[0][0]']          \n",
            "                                                                                                  \n",
            " activation_10 (Activation)     (None, 92, 60, 128)  0           ['conv2d_10[0][0]']              \n",
            "                                                                                                  \n",
            " conv2d_11 (Conv2D)             (None, 92, 60, 128)  147584      ['activation_10[0][0]']          \n",
            "                                                                                                  \n",
            " activation_11 (Activation)     (None, 92, 60, 128)  0           ['conv2d_11[0][0]']              \n",
            "                                                                                                  \n",
            " up_sampling2d_2 (UpSampling2D)  (None, 184, 120, 12  0          ['activation_11[0][0]']          \n",
            "                                8)                                                                \n",
            "                                                                                                  \n",
            " concatenate_2 (Concatenate)    (None, 184, 120, 19  0           ['up_sampling2d_2[0][0]',        \n",
            "                                2)                                'activation_1[0][0]']           \n",
            "                                                                                                  \n",
            " conv2d_12 (Conv2D)             (None, 184, 120, 64  110656      ['concatenate_2[0][0]']          \n",
            "                                )                                                                 \n",
            "                                                                                                  \n",
            " activation_12 (Activation)     (None, 184, 120, 64  0           ['conv2d_12[0][0]']              \n",
            "                                )                                                                 \n",
            "                                                                                                  \n",
            " conv2d_13 (Conv2D)             (None, 184, 120, 64  36928       ['activation_12[0][0]']          \n",
            "                                )                                                                 \n",
            "                                                                                                  \n",
            " activation_13 (Activation)     (None, 184, 120, 64  0           ['conv2d_13[0][0]']              \n",
            "                                )                                                                 \n",
            "                                                                                                  \n",
            " conv2d_14 (Conv2D)             (None, 184, 120, 2)  1154        ['activation_13[0][0]']          \n",
            "                                                                                                  \n",
            " resizing (Resizing)            (None, 180, 120, 2)  0           ['conv2d_14[0][0]']              \n",
            "                                                                                                  \n",
            " conv2d_15 (Conv2D)             (None, 180, 120, 1)  3           ['resizing[0][0]']               \n",
            "                                                                                                  \n",
            "==================================================================================================\n",
            "Total params: 7,784,005\n",
            "Trainable params: 7,784,005\n",
            "Non-trainable params: 0\n",
            "__________________________________________________________________________________________________\n",
            "None\n"
          ]
        }
      ]
    },
    {
      "cell_type": "code",
      "metadata": {
        "colab": {
          "base_uri": "https://localhost:8080/"
        },
        "id": "6vcRoXka4NK1",
        "outputId": "2564db85-4333-4a99-86fd-c3e363ceae6c"
      },
      "source": [
        "input = np.load('./input.npy')\n",
        "output = np.load('./output.npy')\n",
        "input = input/10   ###\n",
        "output = output/10  ###\n",
        "\n",
        "model = unet()\n",
        "model.compile(optimizer=tf.keras.optimizers.Adam(learning_rate=0.001),loss='log_cosh', metrics=['accuracy'])\n",
        "result = model.fit(input, output, batch_size=8, epochs=10, validation_split=0.2) #val may be 20%\n",
        "model.save('result_01.h5')"
      ],
      "execution_count": null,
      "outputs": [
        {
          "output_type": "stream",
          "name": "stdout",
          "text": [
            "Epoch 1/10\n",
            "82/82 [==============================] - 35s 416ms/step - loss: 0.0713 - accuracy: 0.5376 - val_loss: 0.0089 - val_accuracy: 0.4056\n",
            "Epoch 2/10\n",
            "82/82 [==============================] - 30s 367ms/step - loss: 0.0637 - accuracy: 0.5381 - val_loss: 0.0091 - val_accuracy: 0.4056\n",
            "Epoch 3/10\n",
            "82/82 [==============================] - 30s 367ms/step - loss: 0.0631 - accuracy: 0.5381 - val_loss: 0.0096 - val_accuracy: 0.4056\n",
            "Epoch 4/10\n",
            "82/82 [==============================] - 30s 366ms/step - loss: 0.0630 - accuracy: 0.5381 - val_loss: 0.0098 - val_accuracy: 0.4056\n",
            "Epoch 5/10\n",
            "82/82 [==============================] - 30s 366ms/step - loss: 0.0630 - accuracy: 0.5381 - val_loss: 0.0099 - val_accuracy: 0.4056\n",
            "Epoch 6/10\n",
            "82/82 [==============================] - 30s 366ms/step - loss: 0.0630 - accuracy: 0.5381 - val_loss: 0.0100 - val_accuracy: 0.4056\n",
            "Epoch 7/10\n",
            "82/82 [==============================] - 30s 366ms/step - loss: 0.0630 - accuracy: 0.5381 - val_loss: 0.0099 - val_accuracy: 0.4056\n",
            "Epoch 8/10\n",
            "82/82 [==============================] - 30s 366ms/step - loss: 0.0630 - accuracy: 0.5381 - val_loss: 0.0098 - val_accuracy: 0.4056\n",
            "Epoch 9/10\n",
            "82/82 [==============================] - 30s 366ms/step - loss: 0.0630 - accuracy: 0.5381 - val_loss: 0.0098 - val_accuracy: 0.4056\n",
            "Epoch 10/10\n",
            "82/82 [==============================] - 30s 366ms/step - loss: 0.0630 - accuracy: 0.5381 - val_loss: 0.0099 - val_accuracy: 0.4056\n"
          ]
        }
      ]
    },
    {
      "cell_type": "code",
      "metadata": {
        "id": "0wbozXt5tJ9z",
        "colab": {
          "base_uri": "https://localhost:8080/",
          "height": 295
        },
        "outputId": "a4346e6a-eba9-4e71-aa90-bd904cc34afd"
      },
      "source": [
        "plt.plot(result.history['loss'])\n",
        "plt.plot(result.history['val_loss'])\n",
        "plt.title('Model loss')\n",
        "plt.ylabel('Loss')\n",
        "plt.xlabel('Epoch')\n",
        "plt.legend(['Train', 'Validation'], loc='upper right')\n",
        "#plt.ylim(-0.1, 0.2)\n",
        "plt.show()"
      ],
      "execution_count": null,
      "outputs": [
        {
          "output_type": "display_data",
          "data": {
            "image/png": "[encoded data removed]",
            "text/plain": [
              "<Figure size 432x288 with 1 Axes>"
            ]
          },
          "metadata": {
            "needs_background": "light"
          }
        }
      ]
    },
    {
      "cell_type": "code",
      "metadata": {
        "colab": {
          "base_uri": "https://localhost:8080/",
          "height": 295
        },
        "id": "Ii15odrEbuOT",
        "outputId": "a209dfe8-6a2d-4058-879f-36042b84ac93"
      },
      "source": [
        "plt.plot(result.history['accuracy'])\n",
        "plt.plot(result.history['val_accuracy'])\n",
        "plt.title('model accuracy')\n",
        "plt.ylabel('accuracy')\n",
        "plt.xlabel('epoch')\n",
        "plt.legend(['Train', 'Validation'], loc='upper right')\n",
        "plt.show()"
      ],
      "execution_count": null,
      "outputs": [
        {
          "output_type": "display_data",
          "data": {
            "image/png": "[encoded data removed]",
            "text/plain": [
              "<Figure size 432x288 with 1 Axes>"
            ]
          },
          "metadata": {
            "needs_background": "light"
          }
        }
      ]
    }
  ]
}