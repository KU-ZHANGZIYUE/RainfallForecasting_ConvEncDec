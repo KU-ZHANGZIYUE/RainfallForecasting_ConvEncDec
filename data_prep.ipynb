{
  "nbformat": 4,
  "nbformat_minor": 0,
  "metadata": {
    "colab": {
      "name": "data_prep.ipynb",
      "provenance": [],
      "collapsed_sections": [],
      "include_colab_link": true
    },
    "kernelspec": {
      "name": "python3",
      "display_name": "Python 3"
    },
    "language_info": {
      "name": "python"
    }
  },
  "cells": [
    {
      "cell_type": "markdown",
      "metadata": {
        "id": "view-in-github",
        "colab_type": "text"
      },
      "source": [
        "<a href=\"https://colab.research.google.com/github/ZHANGZ1YUE/Rainfall_Nowcasting/blob/main/data_prep.ipynb\" target=\"_parent\"><img src=\"https://colab.research.google.com/assets/colab-badge.svg\" alt=\"Open In Colab\"/></a>"
      ]
    },
    {
      "cell_type": "code",
      "metadata": {
        "id": "asmGFpU4mPOx",
        "colab": {
          "base_uri": "https://localhost:8080/"
        },
        "outputId": "a737fce2-b68c-43d1-a879-d799e0f58559"
      },
      "source": [
        "#Data Preparation\n",
        "#Author: ZHANG Ziyue (Kyoto University)\n",
        "#Date: 2011/11/1\n",
        "\n",
        "from google.colab import drive\n",
        "drive.mount('/content/drive/')    \n",
        "%cd /content/drive/MyDrive/Research/Data/20180704"
      ],
      "execution_count": 1,
      "outputs": [
        {
          "output_type": "stream",
          "name": "stdout",
          "text": [
            "Mounted at /content/drive/\n",
            "/content/drive/MyDrive/Research/Data/20180704\n"
          ]
        }
      ]
    },
    {
      "cell_type": "code",
      "metadata": {
        "id": "tmmwI2__nN-E"
      },
      "source": [
        "import numpy as np\n",
        "import glob\n",
        "import matplotlib.pyplot as plt"
      ],
      "execution_count": 2,
      "outputs": []
    },
    {
      "cell_type": "code",
      "metadata": {
        "id": "gWAbhXRto_HD"
      },
      "source": [
        "base_dir = '/content/drive/MyDrive/Research/Data/20180704/conv_npy'\n",
        "save_dir = '/content/drive/MyDrive/Research/30mins_4ch'\n",
        "\n",
        "interval = 5                                            #5 minutes interval\n",
        "channels = 4                                            #Taking 4 frames as input \n",
        "lead = 30                                               #30 mins prediction"
      ],
      "execution_count": 17,
      "outputs": []
    },
    {
      "cell_type": "code",
      "metadata": {
        "id": "7D88PF5Nw9za"
      },
      "source": [
        "path = glob.glob(base_dir + '/*npy')     #for locating the path of the target files\n",
        "path = [path[i] for i in range(len(path)) if i % interval == 0]    \n",
        "print(len(path))"
      ],
      "execution_count": null,
      "outputs": []
    },
    {
      "cell_type": "code",
      "metadata": {
        "id": "WeRvHFZ-rYsZ"
      },
      "source": [
        "single_ch_ds = np.zeros((len(path), 180, 120, 1))                #Creating a nparray 4 dimension, first one indicates # sets of inputs\n",
        "dataset = np.zeros((len(path)- (channels-1) - int(lead / interval), 180, 120, channels))      #Creating another box which takes information from single channel datasets, we will copy things in this dataset\n",
        "                                                                 # i = 0,...,last-3, here-3是因为我们选取4个frame，最后4个frame会被放在一起（倒数第4,3,2,1个），如果再往后的话就是倒数第2个，第1个，没了！所以不行\n",
        "                                                                 # 再-6是因为我们要用6*5=30分钟前的data去predict30分钟后的，所以\n",
        "output = np.zeros((len(path)- (channels-1) - int(lead / interval), 180, 120, 1))                #对于output，我们只有一个channel，但是为了和input对齐，需要再加一个nparray dimension, 不然input4个dim，output3个dim\n",
        "\n",
        "for i in range(len(path)):                                        # i = 0,...,81 一共82个，range即0-81\n",
        "    single_ch_ds[i,:,:,0] = np.load(path[i])                      #At this moment, each single frame is a input in the dataset, and only 1st channel is assigned with a data, 2nd and 3ed remains 0\n",
        "\n",
        "for i in range(len(path)- (channels-1) - int(lead / interval)):    \n",
        "    k = i\n",
        "    for j in range(channels):     # j = 0,1,2\n",
        "        #print(k)   should give 0,1,2;   1,2,3;   2,3,4; \n",
        "        dataset[i,:,:,j] = single_ch_ds[k,:,:,0]                 #See my sticky note for expected structure\n",
        "        k = k + 1\n",
        "\n",
        "\n",
        "for i in range(len(path) - (channels-1) - int(lead / interval)):\n",
        "    k = i + (channels-1) + int(lead / interval)\n",
        "    output[i,:,:,0] = single_ch_ds[k,:,:,0]"
      ],
      "execution_count": 19,
      "outputs": []
    },
    {
      "cell_type": "code",
      "metadata": {
        "id": "RX3dH1Ic6ed_"
      },
      "source": [
        "print(np.shape(single_ch_ds))\n",
        "print(np.shape(dataset))\n",
        "print(np.shape(output))"
      ],
      "execution_count": null,
      "outputs": []
    },
    {
      "cell_type": "code",
      "metadata": {
        "id": "wityoFvy68jI"
      },
      "source": [
        "np.save(save_dir+'/20180704input.npy', dataset)\n",
        "np.save(save_dir+'/20180704output.npy', output)"
      ],
      "execution_count": null,
      "outputs": []
    },
    {
      "cell_type": "code",
      "metadata": {
        "id": "poO5_83LBNv5"
      },
      "source": [
        "plt.imshow(output[40,:,:,0], cmap = 'hsv')"
      ],
      "execution_count": null,
      "outputs": []
    },
    {
      "cell_type": "code",
      "metadata": {
        "id": "7gZMw1e1BSi7"
      },
      "source": [
        "plt.imshow(dataset[51,:,:,0], cmap = 'hsv')"
      ],
      "execution_count": null,
      "outputs": []
    },
    {
      "cell_type": "code",
      "metadata": {
        "id": "vKP3tzjdB859"
      },
      "source": [
        "np.array_equal(output[0,:,:,0],dataset[6,:,:,3])  #should be equal"
      ],
      "execution_count": null,
      "outputs": []
    }
  ]
}